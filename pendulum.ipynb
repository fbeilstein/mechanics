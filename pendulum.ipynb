{
  "nbformat": 4,
  "nbformat_minor": 0,
  "metadata": {
    "colab": {
      "name": "pendulum.ipynb",
      "provenance": [],
      "authorship_tag": "ABX9TyNat9GF6agvuXgI9RRk9mjZ",
      "include_colab_link": true
    },
    "kernelspec": {
      "name": "python3",
      "display_name": "Python 3"
    },
    "language_info": {
      "name": "python"
    }
  },
  "cells": [
    {
      "cell_type": "markdown",
      "metadata": {
        "id": "view-in-github",
        "colab_type": "text"
      },
      "source": [
        "<a href=\"https://colab.research.google.com/github/fbeilstein/mechanics/blob/master/pendulum.ipynb\" target=\"_parent\"><img src=\"https://colab.research.google.com/assets/colab-badge.svg\" alt=\"Open In Colab\"/></a>"
      ]
    },
    {
      "cell_type": "code",
      "metadata": {
        "colab": {
          "base_uri": "https://localhost:8080/",
          "height": 1000
        },
        "id": "DABOwUB_Cxhj",
        "outputId": "0f79fcd8-94a4-444d-89bb-b080aebd6979"
      },
      "source": [
        "import IPython\n",
        "\n",
        "html_string = '''\n",
        "<script src=\"https://cdn.plot.ly/plotly-latest.min.js\"></script> \n",
        "\n",
        "<script>\n",
        "\n",
        "/// sphere plotting, nothing interesting\n",
        "a = [];\n",
        "b = [];\n",
        "c = [];\n",
        "\n",
        "phiArr = [];\n",
        "thetaArr = [];\n",
        "function makeInterval(startValue, stopValue, numPoints) {\n",
        "    var arr = [];\n",
        "    var step = (stopValue - startValue) / (numPoints - 1);\n",
        "    for (var i = 0; i < numPoints; i++) {\n",
        "      arr.push(startValue + (step * i));\n",
        "    }\n",
        "    return arr;\n",
        "  }\n",
        "\n",
        "phiArr = makeInterval(0, Math.PI/2, 20);  \n",
        "thetaArr = makeInterval(0, 2*Math.PI, 20); \n",
        "\n",
        "for (i=0; i<thetaArr.length; i++){\n",
        "    for (j=0; j<phiArr.length; j++){\n",
        "        a.push(0.1 * Math.cos(thetaArr[i]) * Math.sin(phiArr[j]));\n",
        "        b.push(0.1 * Math.sin(thetaArr[i]) * Math.sin(phiArr[j]));   \n",
        "        c.push(0.1 * Math.cos(phiArr[j]));\n",
        "    }\n",
        "}\n",
        "////\n",
        "\n",
        "\n",
        "var data_to_show = [];\n",
        "var positions = [];\n",
        "var update = true;\n",
        "\n",
        "function update() {\n",
        "  if (data_to_show.length > 0) {\n",
        "    let data = data_to_show.shift();\n",
        "    let obj = document.getElementById('yo');\n",
        "    obj.innerHTML = data;\n",
        "  }\n",
        "  if (data_to_show.length > 100) {\n",
        "    data_to_show = data_to_show.splice(0, data_to_show.length - 100);\n",
        "  }\n",
        "}\n",
        "\n",
        "function plot_once() {\n",
        "\n",
        "  if (!update)\n",
        "    return;\n",
        "\n",
        "  var x = 0.0;\n",
        "  var y = 0.0;\n",
        "  var z = 0.0;\n",
        "  if (positions.length > 0) {\n",
        "    let pos = positions.shift();\n",
        "    x = pos[0];\n",
        "    y = pos[1];\n",
        "    z = pos[2];\n",
        "  }\n",
        "  if (positions.length > 100) {\n",
        "    positions = positions.splice(0, positions.length - 100);\n",
        "  }\n",
        "\n",
        "\n",
        "  var data = [{\n",
        "    'type': 'scatter3d', \n",
        "    'mode': 'lines', \n",
        "    'name': 'scatter_1', \n",
        "    'x': [0.0, x], \n",
        "    'y': [0.0, y], \n",
        "    'z': [0.0, z], \n",
        "    'line': {'color': 'blue', 'width': 3}\n",
        "  },{\n",
        "    opacity: 1.0,\n",
        "    color: 'rgb(211,211,211)',\n",
        "    type: 'mesh3d',\n",
        "    name: 'messh',\n",
        "    x: a.map(v => v + x),\n",
        "    y: b.map(v => v + y),\n",
        "    z: c.map(v => v + z),\n",
        "  },{\n",
        "    opacity: 1.0,\n",
        "    color: 'rgb(211,211,211)',\n",
        "    type: 'mesh3d',\n",
        "    name: 'messh',\n",
        "    x: a.map(v => v + x),\n",
        "    y: b.map(v => v + y),\n",
        "    z: c.map(v => -v + z),\n",
        "  }];\n",
        "\n",
        "  var cell_for_plot = document.getElementById(\"for_plot\");\n",
        "\n",
        "  var layout = {\n",
        "      title: 'Tests',\n",
        "      scene: {\n",
        "        domain: { 'x': [0.55, 1.0], 'y': [0.0, 1.0] }, \n",
        "        zaxis: {'range': [-1.1, 0.0]},\n",
        "        xaxis: {'range': [-1.0, 1.0]},\n",
        "        yaxis: {'range': [-1.0, 1.0]},\n",
        "        aspectmode: 'cube' \n",
        "      },\n",
        "      xaxis1: {'range': [-1.0, 1.0], 'domain': [0.0, 0.44], 'fixedrange': true},\n",
        "      yaxis1: {'range': [-1.0, 1.0], 'domain': [0.0, 1.0], 'fixedrange': true},\n",
        "      width: 1200,\n",
        "      height: 600,\n",
        "      autosize: false,\n",
        "      showlegend: false,\n",
        "      margin: {l: 50, r: 50, b: 50, t: 50}\n",
        "    };\n",
        "  Plotly.react(cell_for_plot, data, layout);\n",
        "\n",
        "}\n",
        "\n",
        "function stop() {\n",
        "  update = !update;\n",
        "}\n",
        "</script>\n",
        "\n",
        "<body>\n",
        "frame: <b id='yo'></b><br>\n",
        "<button type=\"button\" onclick=\"stop();\">\n",
        "  Stop/Resume Drawings\n",
        "</button>\n",
        "<div id=\"for_plot\"></div>\n",
        "</body>\n",
        "\n",
        "<script>\n",
        "plot_once();\n",
        "window.setInterval(update, 100);\n",
        "window.setInterval(plot_once, 100);\n",
        "</script>\n",
        "'''\n",
        "IPython.display.display_html(html_string, raw=True)\n",
        "\n",
        "\n",
        "import time\n",
        "import numpy as np\n",
        "\n",
        "idx = 0\n",
        "theta = 1.0\n",
        "d_theta_1 = 0.0\n",
        "k = 0.1\n",
        "dt = 0.1\n",
        "while True:\n",
        "  time.sleep(dt)\n",
        "  idx += 1\n",
        "  js_str = \"data_to_show.push(\" + str(idx) + \");\"\n",
        "  IPython.display.display_javascript(js_str, raw=True)\n",
        "\n",
        "  d_theta_2 = - k * np.sin(theta)\n",
        "  d_theta_1 = d_theta_1 + dt * d_theta_2\n",
        "  theta = theta + dt * d_theta_1\n",
        "\n",
        "  js_str = \"positions.push(\" + str([np.sin(theta), 0.0, -np.cos(theta)]) + \");\"\n",
        "  IPython.display.display_javascript(js_str, raw=True)"
      ],
      "execution_count": 7,
      "outputs": [
        {
          "output_type": "display_data",
          "data": {
            "text/html": [
              "\n",
              "<script src=\"https://cdn.plot.ly/plotly-latest.min.js\"></script> \n",
              "\n",
              "<script>\n",
              "\n",
              "/// sphere plotting, nothing interesting\n",
              "a = [];\n",
              "b = [];\n",
              "c = [];\n",
              "\n",
              "phiArr = [];\n",
              "thetaArr = [];\n",
              "function makeInterval(startValue, stopValue, numPoints) {\n",
              "    var arr = [];\n",
              "    var step = (stopValue - startValue) / (numPoints - 1);\n",
              "    for (var i = 0; i < numPoints; i++) {\n",
              "      arr.push(startValue + (step * i));\n",
              "    }\n",
              "    return arr;\n",
              "  }\n",
              "\n",
              "phiArr = makeInterval(0, Math.PI/2, 20);  \n",
              "thetaArr = makeInterval(0, 2*Math.PI, 20); \n",
              "\n",
              "for (i=0; i<thetaArr.length; i++){\n",
              "    for (j=0; j<phiArr.length; j++){\n",
              "        a.push(0.1 * Math.cos(thetaArr[i]) * Math.sin(phiArr[j]));\n",
              "        b.push(0.1 * Math.sin(thetaArr[i]) * Math.sin(phiArr[j]));   \n",
              "        c.push(0.1 * Math.cos(phiArr[j]));\n",
              "    }\n",
              "}\n",
              "////\n",
              "\n",
              "\n",
              "var data_to_show = [];\n",
              "var positions = [];\n",
              "var update = true;\n",
              "\n",
              "function update() {\n",
              "  if (data_to_show.length > 0) {\n",
              "    let data = data_to_show.shift();\n",
              "    let obj = document.getElementById('yo');\n",
              "    obj.innerHTML = data;\n",
              "  }\n",
              "  if (data_to_show.length > 100) {\n",
              "    data_to_show = data_to_show.splice(0, data_to_show.length - 100);\n",
              "  }\n",
              "}\n",
              "\n",
              "function plot_once() {\n",
              "\n",
              "  if (!update)\n",
              "    return;\n",
              "\n",
              "  var x = 0.0;\n",
              "  var y = 0.0;\n",
              "  var z = 0.0;\n",
              "  if (positions.length > 0) {\n",
              "    let pos = positions.shift();\n",
              "    x = pos[0];\n",
              "    y = pos[1];\n",
              "    z = pos[2];\n",
              "  }\n",
              "  if (positions.length > 100) {\n",
              "    positions = positions.splice(0, positions.length - 100);\n",
              "  }\n",
              "\n",
              "\n",
              "  var data = [{\n",
              "    'type': 'scatter3d', \n",
              "    'mode': 'lines', \n",
              "    'name': 'scatter_1', \n",
              "    'x': [0.0, x], \n",
              "    'y': [0.0, y], \n",
              "    'z': [0.0, z], \n",
              "    'line': {'color': 'blue', 'width': 3}\n",
              "  },{\n",
              "    opacity: 1.0,\n",
              "    color: 'rgb(211,211,211)',\n",
              "    type: 'mesh3d',\n",
              "    name: 'messh',\n",
              "    x: a.map(v => v + x),\n",
              "    y: b.map(v => v + y),\n",
              "    z: c.map(v => v + z),\n",
              "  },{\n",
              "    opacity: 1.0,\n",
              "    color: 'rgb(211,211,211)',\n",
              "    type: 'mesh3d',\n",
              "    name: 'messh',\n",
              "    x: a.map(v => v + x),\n",
              "    y: b.map(v => v + y),\n",
              "    z: c.map(v => -v + z),\n",
              "  }];\n",
              "\n",
              "  var cell_for_plot = document.getElementById(\"for_plot\");\n",
              "\n",
              "  var layout = {\n",
              "      title: 'Tests',\n",
              "      scene: {\n",
              "        domain: { 'x': [0.55, 1.0], 'y': [0.0, 1.0] }, \n",
              "        zaxis: {'range': [-1.0, 0.0]},\n",
              "        xaxis: {'range': [-1.0, 1.0]},\n",
              "        yaxis: {'range': [-1.0, 1.0]},\n",
              "        aspectmode: 'cube' \n",
              "      },\n",
              "      xaxis1: {'range': [-1.0, 1.0], 'domain': [0.0, 0.44], 'fixedrange': true},\n",
              "      yaxis1: {'range': [-1.0, 1.0], 'domain': [0.0, 1.0], 'fixedrange': true},\n",
              "      width: 1200,\n",
              "      height: 600,\n",
              "      autosize: false,\n",
              "      showlegend: false,\n",
              "      margin: {l: 50, r: 50, b: 50, t: 50}\n",
              "    };\n",
              "  Plotly.react(cell_for_plot, data, layout);\n",
              "\n",
              "}\n",
              "\n",
              "function stop() {\n",
              "  update = !update;\n",
              "}\n",
              "</script>\n",
              "\n",
              "<body>\n",
              "frame: <b id='yo'></b><br>\n",
              "<button type=\"button\" onclick=\"stop();\">\n",
              "  Stop/Resume Drawings\n",
              "</button>\n",
              "<div id=\"for_plot\"></div>\n",
              "</body>\n",
              "\n",
              "<script>\n",
              "plot_once();\n",
              "window.setInterval(update, 100);\n",
              "window.setInterval(plot_once, 100);\n",
              "</script>\n"
            ]
          },
          "metadata": {
            "tags": []
          }
        },
        {
          "output_type": "display_data",
          "data": {
            "application/javascript": [
              "data_to_show.push(1);"
            ]
          },
          "metadata": {
            "tags": []
          }
        },
        {
          "output_type": "display_data",
          "data": {
            "application/javascript": [
              "positions.push([0.841016038236537, 0.0, -0.541010187916013]);"
            ]
          },
          "metadata": {
            "tags": []
          }
        },
        {
          "output_type": "display_data",
          "data": {
            "application/javascript": [
              "data_to_show.push(2);"
            ]
          },
          "metadata": {
            "tags": []
          }
        },
        {
          "output_type": "display_data",
          "data": {
            "application/javascript": [
              "positions.push([0.8401046056873949, 0.0, -0.542424420083413]);"
            ]
          },
          "metadata": {
            "tags": []
          }
        },
        {
          "output_type": "display_data",
          "data": {
            "application/javascript": [
              "data_to_show.push(3);"
            ]
          },
          "metadata": {
            "tags": []
          }
        },
        {
          "output_type": "display_data",
          "data": {
            "application/javascript": [
              "positions.push([0.8387336188490868, 0.0, -0.5445419328319122]);"
            ]
          },
          "metadata": {
            "tags": []
          }
        },
        {
          "output_type": "display_data",
          "data": {
            "application/javascript": [
              "data_to_show.push(4);"
            ]
          },
          "metadata": {
            "tags": []
          }
        },
        {
          "output_type": "display_data",
          "data": {
            "application/javascript": [
              "positions.push([0.8368985015341087, 0.0, -0.5473581077594113]);"
            ]
          },
          "metadata": {
            "tags": []
          }
        },
        {
          "output_type": "display_data",
          "data": {
            "application/javascript": [
              "data_to_show.push(5);"
            ]
          },
          "metadata": {
            "tags": []
          }
        },
        {
          "output_type": "display_data",
          "data": {
            "application/javascript": [
              "positions.push([0.8345932012852467, 0.0, -0.5508667609943839]);"
            ]
          },
          "metadata": {
            "tags": []
          }
        },
        {
          "output_type": "display_data",
          "data": {
            "application/javascript": [
              "data_to_show.push(6);"
            ]
          },
          "metadata": {
            "tags": []
          }
        },
        {
          "output_type": "display_data",
          "data": {
            "application/javascript": [
              "positions.push([0.8318102316308039, 0.0, -0.5550601215673021]);"
            ]
          },
          "metadata": {
            "tags": []
          }
        },
        {
          "output_type": "display_data",
          "data": {
            "application/javascript": [
              "data_to_show.push(7);"
            ]
          },
          "metadata": {
            "tags": []
          }
        },
        {
          "output_type": "display_data",
          "data": {
            "application/javascript": [
              "positions.push([0.8285407250761028, 0.0, -0.5599288051979161]);"
            ]
          },
          "metadata": {
            "tags": []
          }
        },
        {
          "output_type": "display_data",
          "data": {
            "application/javascript": [
              "data_to_show.push(8);"
            ]
          },
          "metadata": {
            "tags": []
          }
        },
        {
          "output_type": "display_data",
          "data": {
            "application/javascript": [
              "positions.push([0.8247744969285357, 0.0, -0.5654617840458194]);"
            ]
          },
          "metadata": {
            "tags": []
          }
        },
        {
          "output_type": "display_data",
          "data": {
            "application/javascript": [
              "data_to_show.push(9);"
            ]
          },
          "metadata": {
            "tags": []
          }
        },
        {
          "output_type": "display_data",
          "data": {
            "application/javascript": [
              "positions.push([0.8205001200553603, 0.0, -0.571646353079541]);"
            ]
          },
          "metadata": {
            "tags": []
          }
        },
        {
          "output_type": "display_data",
          "data": {
            "application/javascript": [
              "data_to_show.push(10);"
            ]
          },
          "metadata": {
            "tags": []
          }
        },
        {
          "output_type": "display_data",
          "data": {
            "application/javascript": [
              "positions.push([0.8157050106659922, 0.0, -0.5784680938257473]);"
            ]
          },
          "metadata": {
            "tags": []
          }
        },
        {
          "output_type": "display_data",
          "data": {
            "application/javascript": [
              "data_to_show.push(11);"
            ]
          },
          "metadata": {
            "tags": []
          }
        },
        {
          "output_type": "display_data",
          "data": {
            "application/javascript": [
              "positions.push([0.8103755251924085, 0.0, -0.5859108363643124]);"
            ]
          },
          "metadata": {
            "tags": []
          }
        },
        {
          "output_type": "display_data",
          "data": {
            "application/javascript": [
              "data_to_show.push(12);"
            ]
          },
          "metadata": {
            "tags": []
          }
        },
        {
          "output_type": "display_data",
          "data": {
            "application/javascript": [
              "positions.push([0.8044970683111692, 0.0, -0.5939566205361583]);"
            ]
          },
          "metadata": {
            "tags": []
          }
        },
        {
          "output_type": "display_data",
          "data": {
            "application/javascript": [
              "data_to_show.push(13);"
            ]
          },
          "metadata": {
            "tags": []
          }
        },
        {
          "output_type": "display_data",
          "data": {
            "application/javascript": [
              "positions.push([0.7980542121073951, 0.0, -0.6025856574277593]);"
            ]
          },
          "metadata": {
            "tags": []
          }
        },
        {
          "output_type": "display_data",
          "data": {
            "application/javascript": [
              "data_to_show.push(14);"
            ]
          },
          "metadata": {
            "tags": []
          }
        },
        {
          "output_type": "display_data",
          "data": {
            "application/javascript": [
              "positions.push([0.7910308263238657, 0.0, -0.6117762922877793]);"
            ]
          },
          "metadata": {
            "tags": []
          }
        },
        {
          "output_type": "display_data",
          "data": {
            "application/javascript": [
              "data_to_show.push(15);"
            ]
          },
          "metadata": {
            "tags": []
          }
        },
        {
          "output_type": "display_data",
          "data": {
            "application/javascript": [
              "positions.push([0.7834102195664943, 0.0, -0.6215049701159092]);"
            ]
          },
          "metadata": {
            "tags": []
          }
        },
        {
          "output_type": "display_data",
          "data": {
            "application/javascript": [
              "data_to_show.push(16);"
            ]
          },
          "metadata": {
            "tags": []
          }
        },
        {
          "output_type": "display_data",
          "data": {
            "application/javascript": [
              "positions.push([0.7751752912503109, 0.0, -0.6317462052398856]);"
            ]
          },
          "metadata": {
            "tags": []
          }
        },
        {
          "output_type": "display_data",
          "data": {
            "application/javascript": [
              "data_to_show.push(17);"
            ]
          },
          "metadata": {
            "tags": []
          }
        },
        {
          "output_type": "display_data",
          "data": {
            "application/javascript": [
              "positions.push([0.7663086939675462, 0.0, -0.6424725562619416]);"
            ]
          },
          "metadata": {
            "tags": []
          }
        },
        {
          "output_type": "display_data",
          "data": {
            "application/javascript": [
              "data_to_show.push(18);"
            ]
          },
          "metadata": {
            "tags": []
          }
        },
        {
          "output_type": "display_data",
          "data": {
            "application/javascript": [
              "positions.push([0.7567930058415923, 0.0, -0.6536546078084723]);"
            ]
          },
          "metadata": {
            "tags": []
          }
        },
        {
          "output_type": "display_data",
          "data": {
            "application/javascript": [
              "data_to_show.push(19);"
            ]
          },
          "metadata": {
            "tags": []
          }
        },
        {
          "output_type": "display_data",
          "data": {
            "application/javascript": [
              "positions.push([0.7466109122980348, 0.0, -0.6652609605541995]);"
            ]
          },
          "metadata": {
            "tags": []
          }
        },
        {
          "output_type": "display_data",
          "data": {
            "application/javascript": [
              "data_to_show.push(20);"
            ]
          },
          "metadata": {
            "tags": []
          }
        },
        {
          "output_type": "display_data",
          "data": {
            "application/javascript": [
              "positions.push([0.7357453965375151, 0.0, -0.6772582310122591]);"
            ]
          },
          "metadata": {
            "tags": []
          }
        },
        {
          "output_type": "display_data",
          "data": {
            "application/javascript": [
              "data_to_show.push(21);"
            ]
          },
          "metadata": {
            "tags": []
          }
        },
        {
          "output_type": "display_data",
          "data": {
            "application/javascript": [
              "positions.push([0.7241799378362842, 0.0, -0.6896110625819714]);"
            ]
          },
          "metadata": {
            "tags": []
          }
        },
        {
          "output_type": "display_data",
          "data": {
            "application/javascript": [
              "data_to_show.push(22);"
            ]
          },
          "metadata": {
            "tags": []
          }
        },
        {
          "output_type": "display_data",
          "data": {
            "application/javascript": [
              "positions.push([0.7118987166307936, 0.0, -0.7022821493242078]);"
            ]
          },
          "metadata": {
            "tags": []
          }
        },
        {
          "output_type": "display_data",
          "data": {
            "application/javascript": [
              "data_to_show.push(23);"
            ]
          },
          "metadata": {
            "tags": []
          }
        },
        {
          "output_type": "display_data",
          "data": {
            "application/javascript": [
              "positions.push([0.6988868251649091, 0.0, -0.7152322738879404]);"
            ]
          },
          "metadata": {
            "tags": []
          }
        },
        {
          "output_type": "display_data",
          "data": {
            "application/javascript": [
              "data_to_show.push(24);"
            ]
          },
          "metadata": {
            "tags": []
          }
        },
        {
          "output_type": "display_data",
          "data": {
            "application/javascript": [
              "positions.push([0.6851304822951951, 0.0, -0.7284203609386227]);"
            ]
          },
          "metadata": {
            "tags": []
          }
        },
        {
          "output_type": "display_data",
          "data": {
            "application/javascript": [
              "data_to_show.push(25);"
            ]
          },
          "metadata": {
            "tags": []
          }
        },
        {
          "output_type": "display_data",
          "data": {
            "application/javascript": [
              "positions.push([0.6706172508646192, 0.0, -0.7418035473376899]);"
            ]
          },
          "metadata": {
            "tags": []
          }
        },
        {
          "output_type": "display_data",
          "data": {
            "application/javascript": [
              "data_to_show.push(26);"
            ]
          },
          "metadata": {
            "tags": []
          }
        },
        {
          "output_type": "display_data",
          "data": {
            "application/javascript": [
              "positions.push([0.6553362558718266, 0.0, -0.7553372701912012]);"
            ]
          },
          "metadata": {
            "tags": []
          }
        },
        {
          "output_type": "display_data",
          "data": {
            "application/javascript": [
              "data_to_show.push(27);"
            ]
          },
          "metadata": {
            "tags": []
          }
        },
        {
          "output_type": "display_data",
          "data": {
            "application/javascript": [
              "positions.push([0.6392784014862097, 0.0, -0.768975373723526]);"
            ]
          },
          "metadata": {
            "tags": []
          }
        },
        {
          "output_type": "display_data",
          "data": {
            "application/javascript": [
              "data_to_show.push(28);"
            ]
          },
          "metadata": {
            "tags": []
          }
        },
        {
          "output_type": "display_data",
          "data": {
            "application/javascript": [
              "positions.push([0.622436584793064, 0.0, -0.7826702357386199]);"
            ]
          },
          "metadata": {
            "tags": []
          }
        },
        {
          "output_type": "display_data",
          "data": {
            "application/javascript": [
              "data_to_show.push(29);"
            ]
          },
          "metadata": {
            "tags": []
          }
        },
        {
          "output_type": "display_data",
          "data": {
            "application/javascript": [
              "positions.push([0.6048059040032615, 0.0, -0.7963729142071556]);"
            ]
          },
          "metadata": {
            "tags": []
          }
        },
        {
          "output_type": "display_data",
          "data": {
            "application/javascript": [
              "data_to_show.push(30);"
            ]
          },
          "metadata": {
            "tags": []
          }
        },
        {
          "output_type": "display_data",
          "data": {
            "application/javascript": [
              "positions.push([0.5863838587333394, 0.0, -0.8100333142636783]);"
            ]
          },
          "metadata": {
            "tags": []
          }
        },
        {
          "output_type": "display_data",
          "data": {
            "application/javascript": [
              "data_to_show.push(31);"
            ]
          },
          "metadata": {
            "tags": []
          }
        },
        {
          "output_type": "display_data",
          "data": {
            "application/javascript": [
              "positions.push([0.5671705398600594, 0.0, -0.8236003756160197]);"
            ]
          },
          "metadata": {
            "tags": []
          }
        },
        {
          "output_type": "display_data",
          "data": {
            "application/javascript": [
              "data_to_show.push(32);"
            ]
          },
          "metadata": {
            "tags": []
          }
        },
        {
          "output_type": "display_data",
          "data": {
            "application/javascript": [
              "positions.push([0.5471688063836379, 0.0, -0.8370222800623082]);"
            ]
          },
          "metadata": {
            "tags": []
          }
        },
        {
          "output_type": "display_data",
          "data": {
            "application/javascript": [
              "data_to_show.push(33);"
            ]
          },
          "metadata": {
            "tags": []
          }
        },
        {
          "output_type": "display_data",
          "data": {
            "application/javascript": [
              "positions.push([0.5263844467010341, 0.0, -0.8502466784829248]);"
            ]
          },
          "metadata": {
            "tags": []
          }
        },
        {
          "output_type": "display_data",
          "data": {
            "application/javascript": [
              "data_to_show.push(34);"
            ]
          },
          "metadata": {
            "tags": []
          }
        },
        {
          "output_type": "display_data",
          "data": {
            "application/javascript": [
              "positions.push([0.5048263216995695, 0.0, -0.863220936330487]);"
            ]
          },
          "metadata": {
            "tags": []
          }
        },
        {
          "output_type": "display_data",
          "data": {
            "application/javascript": [
              "data_to_show.push(35);"
            ]
          },
          "metadata": {
            "tags": []
          }
        },
        {
          "output_type": "display_data",
          "data": {
            "application/javascript": [
              "positions.push([0.4825064871357952, 0.0, -0.875892396286139]);"
            ]
          },
          "metadata": {
            "tags": []
          }
        },
        {
          "output_type": "display_data",
          "data": {
            "application/javascript": [
              "data_to_show.push(36);"
            ]
          },
          "metadata": {
            "tags": []
          }
        },
        {
          "output_type": "display_data",
          "data": {
            "application/javascript": [
              "positions.push([0.4594402928681774, 0.0, -0.8882086563917306]);"
            ]
          },
          "metadata": {
            "tags": []
          }
        },
        {
          "output_type": "display_data",
          "data": {
            "application/javascript": [
              "data_to_show.push(37);"
            ]
          },
          "metadata": {
            "tags": []
          }
        },
        {
          "output_type": "display_data",
          "data": {
            "application/javascript": [
              "positions.push([0.4356464566671213, 0.0, -0.9001178616122346]);"
            ]
          },
          "metadata": {
            "tags": []
          }
        },
        {
          "output_type": "display_data",
          "data": {
            "application/javascript": [
              "data_to_show.push(38);"
            ]
          },
          "metadata": {
            "tags": []
          }
        },
        {
          "output_type": "display_data",
          "data": {
            "application/javascript": [
              "positions.push([0.411147110533227, 0.0, -0.9115690064389961]);"
            ]
          },
          "metadata": {
            "tags": []
          }
        },
        {
          "output_type": "display_data",
          "data": {
            "application/javascript": [
              "data_to_show.push(39);"
            ]
          },
          "metadata": {
            "tags": []
          }
        },
        {
          "output_type": "display_data",
          "data": {
            "application/javascript": [
              "positions.push([0.3859678177142933, 0.0, -0.9225122458205453]);"
            ]
          },
          "metadata": {
            "tags": []
          }
        },
        {
          "output_type": "display_data",
          "data": {
            "application/javascript": [
              "data_to_show.push(40);"
            ]
          },
          "metadata": {
            "tags": []
          }
        },
        {
          "output_type": "display_data",
          "data": {
            "application/javascript": [
              "positions.push([0.36013755892185717, 0.0, -0.9328992114123614]);"
            ]
          },
          "metadata": {
            "tags": []
          }
        },
        {
          "output_type": "display_data",
          "data": {
            "application/javascript": [
              "data_to_show.push(41);"
            ]
          },
          "metadata": {
            "tags": []
          }
        },
        {
          "output_type": "display_data",
          "data": {
            "application/javascript": [
              "positions.push([0.33368868660587225, 0.0, -0.9426833298787287]);"
            ]
          },
          "metadata": {
            "tags": []
          }
        },
        {
          "output_type": "display_data",
          "data": {
            "application/javascript": [
              "data_to_show.push(42);"
            ]
          },
          "metadata": {
            "tags": []
          }
        },
        {
          "output_type": "display_data",
          "data": {
            "application/javascript": [
              "positions.push([0.30665684654686437, 0.0, -0.9518201397669273]);"
            ]
          },
          "metadata": {
            "tags": []
          }
        },
        {
          "output_type": "display_data",
          "data": {
            "application/javascript": [
              "data_to_show.push(43);"
            ]
          },
          "metadata": {
            "tags": []
          }
        },
        {
          "output_type": "display_data",
          "data": {
            "application/javascript": [
              "positions.push([0.2790808664623996, 0.0, -0.9602676033140951]);"
            ]
          },
          "metadata": {
            "tags": []
          }
        },
        {
          "output_type": "display_data",
          "data": {
            "application/javascript": [
              "data_to_show.push(44);"
            ]
          },
          "metadata": {
            "tags": []
          }
        },
        {
          "output_type": "display_data",
          "data": {
            "application/javascript": [
              "positions.push([0.2510026117913945, 0.0, -0.9679864094468984]);"
            ]
          },
          "metadata": {
            "tags": []
          }
        },
        {
          "output_type": "display_data",
          "data": {
            "application/javascript": [
              "data_to_show.push(45);"
            ]
          },
          "metadata": {
            "tags": []
          }
        },
        {
          "output_type": "display_data",
          "data": {
            "application/javascript": [
              "positions.push([0.22246680930682455, 0.0, -0.974940264199218]);"
            ]
          },
          "metadata": {
            "tags": []
          }
        },
        {
          "output_type": "display_data",
          "data": {
            "application/javascript": [
              "data_to_show.push(46);"
            ]
          },
          "metadata": {
            "tags": []
          }
        },
        {
          "output_type": "display_data",
          "data": {
            "application/javascript": [
              "positions.push([0.19352083970479617, 0.0, -0.9810961648074824]);"
            ]
          },
          "metadata": {
            "tags": []
          }
        },
        {
          "output_type": "display_data",
          "data": {
            "application/javascript": [
              "data_to_show.push(47);"
            ]
          },
          "metadata": {
            "tags": []
          }
        },
        {
          "output_type": "display_data",
          "data": {
            "application/javascript": [
              "positions.push([0.16421450081495959, 0.0, -0.9864246538494937]);"
            ]
          },
          "metadata": {
            "tags": []
          }
        },
        {
          "output_type": "display_data",
          "data": {
            "application/javascript": [
              "data_to_show.push(48);"
            ]
          },
          "metadata": {
            "tags": []
          }
        },
        {
          "output_type": "display_data",
          "data": {
            "application/javascript": [
              "positions.push([0.1345997435625431, 0.0, -0.9909000499711853]);"
            ]
          },
          "metadata": {
            "tags": []
          }
        },
        {
          "output_type": "display_data",
          "data": {
            "application/javascript": [
              "data_to_show.push(49);"
            ]
          },
          "metadata": {
            "tags": []
          }
        },
        {
          "output_type": "display_data",
          "data": {
            "application/javascript": [
              "positions.push([0.10473038327438058, 0.0, -0.9945006519953626]);"
            ]
          },
          "metadata": {
            "tags": []
          }
        },
        {
          "output_type": "display_data",
          "data": {
            "application/javascript": [
              "data_to_show.push(50);"
            ]
          },
          "metadata": {
            "tags": []
          }
        },
        {
          "output_type": "display_data",
          "data": {
            "application/javascript": [
              "positions.push([0.07466178934885931, 0.0, -0.9972089135237543]);"
            ]
          },
          "metadata": {
            "tags": []
          }
        },
        {
          "output_type": "display_data",
          "data": {
            "application/javascript": [
              "data_to_show.push(51);"
            ]
          },
          "metadata": {
            "tags": []
          }
        },
        {
          "output_type": "display_data",
          "data": {
            "application/javascript": [
              "positions.push([0.04445055669195304, 0.0, -0.9990115855232988]);"
            ]
          },
          "metadata": {
            "tags": []
          }
        },
        {
          "output_type": "display_data",
          "data": {
            "application/javascript": [
              "data_to_show.push(52);"
            ]
          },
          "metadata": {
            "tags": []
          }
        },
        {
          "output_type": "display_data",
          "data": {
            "application/javascript": [
              "positions.push([0.014154162648571295, 0.0, -0.9998998248223258]);"
            ]
          },
          "metadata": {
            "tags": []
          }
        },
        {
          "output_type": "display_data",
          "data": {
            "application/javascript": [
              "data_to_show.push(53);"
            ]
          },
          "metadata": {
            "tags": []
          }
        },
        {
          "output_type": "display_data",
          "data": {
            "application/javascript": [
              "positions.push([-0.016169386578246004, 0.0, -0.9998692669232729]);"
            ]
          },
          "metadata": {
            "tags": []
          }
        },
        {
          "output_type": "display_data",
          "data": {
            "application/javascript": [
              "data_to_show.push(54);"
            ]
          },
          "metadata": {
            "tags": []
          }
        },
        {
          "output_type": "display_data",
          "data": {
            "application/javascript": [
              "positions.push([-0.04646191583524518, 0.0, -0.9989200620554772]);"
            ]
          },
          "metadata": {
            "tags": []
          }
        },
        {
          "output_type": "display_data",
          "data": {
            "application/javascript": [
              "data_to_show.push(55);"
            ]
          },
          "metadata": {
            "tags": []
          }
        },
        {
          "output_type": "display_data",
          "data": {
            "application/javascript": [
              "positions.push([-0.07666544295239724, 0.0, -0.9970568739329331]);"
            ]
          },
          "metadata": {
            "tags": []
          }
        },
        {
          "output_type": "display_data",
          "data": {
            "application/javascript": [
              "data_to_show.push(56);"
            ]
          },
          "metadata": {
            "tags": []
          }
        },
        {
          "output_type": "display_data",
          "data": {
            "application/javascript": [
              "positions.push([-0.10672253836285281, 0.0, -0.9942888412354779]);"
            ]
          },
          "metadata": {
            "tags": []
          }
        },
        {
          "output_type": "display_data",
          "data": {
            "application/javascript": [
              "data_to_show.push(57);"
            ]
          },
          "metadata": {
            "tags": []
          }
        },
        {
          "output_type": "display_data",
          "data": {
            "application/javascript": [
              "positions.push([-0.1365766781131392, 0.0, -0.9906295023850138]);"
            ]
          },
          "metadata": {
            "tags": []
          }
        },
        {
          "output_type": "display_data",
          "data": {
            "application/javascript": [
              "data_to_show.push(58);"
            ]
          },
          "metadata": {
            "tags": []
          }
        },
        {
          "output_type": "display_data",
          "data": {
            "application/javascript": [
              "positions.push([-0.1661725860890423, 0.0, -0.9860966847284701]);"
            ]
          },
          "metadata": {
            "tags": []
          }
        },
        {
          "output_type": "display_data",
          "data": {
            "application/javascript": [
              "data_to_show.push(59);"
            ]
          },
          "metadata": {
            "tags": []
          }
        },
        {
          "output_type": "display_data",
          "data": {
            "application/javascript": [
              "positions.push([-0.19545656148001658, 0.0, -0.9807123597540761]);"
            ]
          },
          "metadata": {
            "tags": []
          }
        },
        {
          "output_type": "display_data",
          "data": {
            "application/javascript": [
              "data_to_show.push(60);"
            ]
          },
          "metadata": {
            "tags": []
          }
        },
        {
          "output_type": "display_data",
          "data": {
            "application/javascript": [
              "positions.push([-0.2243767877727411, 0.0, -0.9745024664457173]);"
            ]
          },
          "metadata": {
            "tags": []
          }
        },
        {
          "output_type": "display_data",
          "data": {
            "application/javascript": [
              "data_to_show.push(61);"
            ]
          },
          "metadata": {
            "tags": []
          }
        },
        {
          "output_type": "display_data",
          "data": {
            "application/javascript": [
              "positions.push([-0.2528836198954534, 0.0, -0.9674967053114816]);"
            ]
          },
          "metadata": {
            "tags": []
          }
        },
        {
          "output_type": "display_data",
          "data": {
            "application/javascript": [
              "data_to_show.push(62);"
            ]
          },
          "metadata": {
            "tags": []
          }
        },
        {
          "output_type": "display_data",
          "data": {
            "application/javascript": [
              "positions.push([-0.2809298465202621, 0.0, -0.9597283059981622]);"
            ]
          },
          "metadata": {
            "tags": []
          }
        },
        {
          "output_type": "display_data",
          "data": {
            "application/javascript": [
              "data_to_show.push(63);"
            ]
          },
          "metadata": {
            "tags": []
          }
        },
        {
          "output_type": "display_data",
          "data": {
            "application/javascript": [
              "positions.push([-0.30847092496083217, 0.0, -0.9512337717164002]);"
            ]
          },
          "metadata": {
            "tags": []
          }
        },
        {
          "output_type": "display_data",
          "data": {
            "application/javascript": [
              "data_to_show.push(64);"
            ]
          },
          "metadata": {
            "tags": []
          }
        },
        {
          "output_type": "display_data",
          "data": {
            "application/javascript": [
              "positions.push([-0.3354651865668251, 0.0, -0.9420526039461307]);"
            ]
          },
          "metadata": {
            "tags": []
          }
        },
        {
          "output_type": "display_data",
          "data": {
            "application/javascript": [
              "data_to_show.push(65);"
            ]
          },
          "metadata": {
            "tags": []
          }
        },
        {
          "output_type": "display_data",
          "data": {
            "application/javascript": [
              "positions.push([-0.36187401100291694, 0.0, -0.9322270110657922]);"
            ]
          },
          "metadata": {
            "tags": []
          }
        },
        {
          "output_type": "display_data",
          "data": {
            "application/javascript": [
              "data_to_show.push(66);"
            ]
          },
          "metadata": {
            "tags": []
          }
        },
        {
          "output_type": "display_data",
          "data": {
            "application/javascript": [
              "positions.push([-0.38766196829759936, 0.0, -0.9218016046501715]);"
            ]
          },
          "metadata": {
            "tags": []
          }
        },
        {
          "output_type": "display_data",
          "data": {
            "application/javascript": [
              "data_to_show.push(67);"
            ]
          },
          "metadata": {
            "tags": []
          }
        },
        {
          "output_type": "display_data",
          "data": {
            "application/javascript": [
              "positions.push([-0.41279692804401646, 0.0, -0.9108230872114645]);"
            ]
          },
          "metadata": {
            "tags": []
          }
        },
        {
          "output_type": "display_data",
          "data": {
            "application/javascript": [
              "data_to_show.push(68);"
            ]
          },
          "metadata": {
            "tags": []
          }
        },
        {
          "output_type": "display_data",
          "data": {
            "application/javascript": [
              "positions.push([-0.43725013562106396, 0.0, -0.8993399351187298]);"
            ]
          },
          "metadata": {
            "tags": []
          }
        },
        {
          "output_type": "display_data",
          "data": {
            "application/javascript": [
              "data_to_show.push(69);"
            ]
          },
          "metadata": {
            "tags": []
          }
        },
        {
          "output_type": "display_data",
          "data": {
            "application/javascript": [
              "positions.push([-0.4609962557679895, 0.0, -0.8874020803265532]);"
            ]
          },
          "metadata": {
            "tags": []
          }
        },
        {
          "output_type": "display_data",
          "data": {
            "application/javascript": [
              "data_to_show.push(70);"
            ]
          },
          "metadata": {
            "tags": []
          }
        },
        {
          "output_type": "display_data",
          "data": {
            "application/javascript": [
              "positions.push([-0.48401338428101026, 0.0, -0.8750605943800939]);"
            ]
          },
          "metadata": {
            "tags": []
          }
        },
        {
          "output_type": "display_data",
          "data": {
            "application/javascript": [
              "data_to_show.push(71);"
            ]
          },
          "metadata": {
            "tags": []
          }
        },
        {
          "output_type": "display_data",
          "data": {
            "application/javascript": [
              "positions.push([-0.5062830289985168, 0.0, -0.8623673779475236]);"
            ]
          },
          "metadata": {
            "tags": []
          }
        },
        {
          "output_type": "display_data",
          "data": {
            "application/javascript": [
              "data_to_show.push(72);"
            ]
          },
          "metadata": {
            "tags": []
          }
        },
        {
          "output_type": "display_data",
          "data": {
            "application/javascript": [
              "positions.push([-0.5277900615962174, 0.0, -0.849374858869899]);"
            ]
          },
          "metadata": {
            "tags": []
          }
        },
        {
          "output_type": "display_data",
          "data": {
            "application/javascript": [
              "data_to_show.push(73);"
            ]
          },
          "metadata": {
            "tags": []
          }
        },
        {
          "output_type": "display_data",
          "data": {
            "application/javascript": [
              "positions.push([-0.5485226420205597, 0.0, -0.8361357014209984]);"
            ]
          },
          "metadata": {
            "tags": []
          }
        },
        {
          "output_type": "display_data",
          "data": {
            "application/javascript": [
              "data_to_show.push(74);"
            ]
          },
          "metadata": {
            "tags": []
          }
        },
        {
          "output_type": "display_data",
          "data": {
            "application/javascript": [
              "positions.push([-0.5684721176449505, 0.0, -0.8227025291442014]);"
            ]
          },
          "metadata": {
            "tags": []
          }
        },
        {
          "output_type": "display_data",
          "data": {
            "application/javascript": [
              "data_to_show.push(75);"
            ]
          },
          "metadata": {
            "tags": []
          }
        },
        {
          "output_type": "display_data",
          "data": {
            "application/javascript": [
              "positions.push([-0.5876328994371728, 0.0, -0.8091276632887183]);"
            ]
          },
          "metadata": {
            "tags": []
          }
        },
        {
          "output_type": "display_data",
          "data": {
            "application/javascript": [
              "data_to_show.push(76);"
            ]
          },
          "metadata": {
            "tags": []
          }
        },
        {
          "output_type": "display_data",
          "data": {
            "application/javascript": [
              "positions.push([-0.6060023175778914, 0.0, -0.7954628785117659]);"
            ]
          },
          "metadata": {
            "tags": []
          }
        },
        {
          "output_type": "display_data",
          "data": {
            "application/javascript": [
              "data_to_show.push(77);"
            ]
          },
          "metadata": {
            "tags": []
          }
        },
        {
          "output_type": "display_data",
          "data": {
            "application/javascript": [
              "positions.push([-0.6235804590704537, 0.0, -0.7817591771546287]);"
            ]
          },
          "metadata": {
            "tags": []
          }
        },
        {
          "output_type": "display_data",
          "data": {
            "application/javascript": [
              "data_to_show.push(78);"
            ]
          },
          "metadata": {
            "tags": []
          }
        },
        {
          "output_type": "display_data",
          "data": {
            "application/javascript": [
              "positions.push([-0.640369989933679, 0.0, -0.7680665830462486]);"
            ]
          },
          "metadata": {
            "tags": []
          }
        },
        {
          "output_type": "display_data",
          "data": {
            "application/javascript": [
              "data_to_show.push(79);"
            ]
          },
          "metadata": {
            "tags": []
          }
        },
        {
          "output_type": "display_data",
          "data": {
            "application/javascript": [
              "positions.push([-0.6563759645753148, 0.0, -0.7544339554446268]);"
            ]
          },
          "metadata": {
            "tags": []
          }
        },
        {
          "output_type": "display_data",
          "data": {
            "application/javascript": [
              "data_to_show.push(80);"
            ]
          },
          "metadata": {
            "tags": []
          }
        },
        {
          "output_type": "display_data",
          "data": {
            "application/javascript": [
              "positions.push([-0.6716056249084131, 0.0, -0.7409088233996002]);"
            ]
          },
          "metadata": {
            "tags": []
          }
        },
        {
          "output_type": "display_data",
          "data": {
            "application/javascript": [
              "data_to_show.push(81);"
            ]
          },
          "metadata": {
            "tags": []
          }
        },
        {
          "output_type": "display_data",
          "data": {
            "application/javascript": [
              "positions.push([-0.6860681917007344, 0.0, -0.7275372405152085]);"
            ]
          },
          "metadata": {
            "tags": []
          }
        },
        {
          "output_type": "display_data",
          "data": {
            "application/javascript": [
              "data_to_show.push(82);"
            ]
          },
          "metadata": {
            "tags": []
          }
        },
        {
          "output_type": "display_data",
          "data": {
            "application/javascript": [
              "positions.push([-0.6997746505435085, 0.0, -0.7143636598097013]);"
            ]
          },
          "metadata": {
            "tags": []
          }
        },
        {
          "output_type": "display_data",
          "data": {
            "application/javascript": [
              "data_to_show.push(83);"
            ]
          },
          "metadata": {
            "tags": []
          }
        },
        {
          "output_type": "display_data",
          "data": {
            "application/javascript": [
              "positions.push([-0.7127375346957638, 0.0, -0.7014308281190703]);"
            ]
          },
          "metadata": {
            "tags": []
          }
        },
        {
          "output_type": "display_data",
          "data": {
            "application/javascript": [
              "data_to_show.push(84);"
            ]
          },
          "metadata": {
            "tags": []
          }
        },
        {
          "output_type": "display_data",
          "data": {
            "application/javascript": [
              "positions.push([-0.7249707069093442, 0.0, -0.6887796992677454]);"
            ]
          },
          "metadata": {
            "tags": []
          }
        },
        {
          "output_type": "display_data",
          "data": {
            "application/javascript": [
              "data_to_show.push(85);"
            ]
          },
          "metadata": {
            "tags": []
          }
        },
        {
          "output_type": "display_data",
          "data": {
            "application/javascript": [
              "positions.push([-0.7364891421729169, 0.0, -0.6764493650388038]);"
            ]
          },
          "metadata": {
            "tags": []
          }
        },
        {
          "output_type": "display_data",
          "data": {
            "application/javascript": [
              "data_to_show.push(86);"
            ]
          },
          "metadata": {
            "tags": []
          }
        },
        {
          "output_type": "display_data",
          "data": {
            "application/javascript": [
              "positions.push([-0.7473087131357881, 0.0, -0.6644770028159985]);"
            ]
          },
          "metadata": {
            "tags": []
          }
        },
        {
          "output_type": "display_data",
          "data": {
            "application/javascript": [
              "data_to_show.push(87);"
            ]
          },
          "metadata": {
            "tags": []
          }
        },
        {
          "output_type": "display_data",
          "data": {
            "application/javascript": [
              "positions.push([-0.7574459797888872, 0.0, -0.6528978386406656]);"
            ]
          },
          "metadata": {
            "tags": []
          }
        },
        {
          "output_type": "display_data",
          "data": {
            "application/javascript": [
              "data_to_show.push(88);"
            ]
          },
          "metadata": {
            "tags": []
          }
        },
        {
          "output_type": "display_data",
          "data": {
            "application/javascript": [
              "positions.push([-0.7669179847951998, 0.0, -0.6417451243271504]);"
            ]
          },
          "metadata": {
            "tags": []
          }
        },
        {
          "output_type": "display_data",
          "data": {
            "application/javascript": [
              "data_to_show.push(89);"
            ]
          },
          "metadata": {
            "tags": []
          }
        },
        {
          "output_type": "display_data",
          "data": {
            "application/javascript": [
              "positions.push([-0.7757420556790438, 0.0, -0.6310501272092823]);"
            ]
          },
          "metadata": {
            "tags": []
          }
        },
        {
          "output_type": "display_data",
          "data": {
            "application/javascript": [
              "data_to_show.push(90);"
            ]
          },
          "metadata": {
            "tags": []
          }
        },
        {
          "output_type": "display_data",
          "data": {
            "application/javascript": [
              "positions.push([-0.7839356149062932, 0.0, -0.6208421310458013]);"
            ]
          },
          "metadata": {
            "tags": []
          }
        },
        {
          "output_type": "display_data",
          "data": {
            "application/javascript": [
              "data_to_show.push(91);"
            ]
          },
          "metadata": {
            "tags": []
          }
        },
        {
          "output_type": "display_data",
          "data": {
            "application/javascript": [
              "positions.push([-0.7915159987187764, 0.0, -0.6111484465923299]);"
            ]
          },
          "metadata": {
            "tags": []
          }
        },
        {
          "output_type": "display_data",
          "data": {
            "application/javascript": [
              "data_to_show.push(92);"
            ]
          },
          "metadata": {
            "tags": []
          }
        },
        {
          "output_type": "display_data",
          "data": {
            "application/javascript": [
              "positions.push([-0.7985002854279459, 0.0, -0.6019944303492257]);"
            ]
          },
          "metadata": {
            "tags": []
          }
        },
        {
          "output_type": "display_data",
          "data": {
            "application/javascript": [
              "data_to_show.push(93);"
            ]
          },
          "metadata": {
            "tags": []
          }
        },
        {
          "output_type": "display_data",
          "data": {
            "application/javascript": [
              "positions.push([-0.804905133727377, 0.0, -0.5934035100160037]);"
            ]
          },
          "metadata": {
            "tags": []
          }
        },
        {
          "output_type": "display_data",
          "data": {
            "application/javascript": [
              "data_to_show.push(94);"
            ]
          },
          "metadata": {
            "tags": []
          }
        },
        {
          "output_type": "display_data",
          "data": {
            "application/javascript": [
              "positions.push([-0.8107466314520189, 0.0, -0.5853972152216]);"
            ]
          },
          "metadata": {
            "tags": []
          }
        },
        {
          "output_type": "display_data",
          "data": {
            "application/javascript": [
              "data_to_show.push(95);"
            ]
          },
          "metadata": {
            "tags": []
          }
        },
        {
          "output_type": "display_data",
          "data": {
            "application/javascript": [
              "positions.push([-0.8160401550953135, 0.0, -0.5779952121531948]);"
            ]
          },
          "metadata": {
            "tags": []
          }
        },
        {
          "output_type": "display_data",
          "data": {
            "application/javascript": [
              "data_to_show.push(96);"
            ]
          },
          "metadata": {
            "tags": []
          }
        },
        {
          "output_type": "display_data",
          "data": {
            "application/javascript": [
              "positions.push([-0.8208002402937825, 0.0, -0.5712153407723474]);"
            ]
          },
          "metadata": {
            "tags": []
          }
        },
        {
          "output_type": "display_data",
          "data": {
            "application/javascript": [
              "data_to_show.push(97);"
            ]
          },
          "metadata": {
            "tags": []
          }
        },
        {
          "output_type": "display_data",
          "data": {
            "application/javascript": [
              "positions.push([-0.8250404634025768, 0.0, -0.5650736533837527]);"
            ]
          },
          "metadata": {
            "tags": []
          }
        },
        {
          "output_type": "display_data",
          "data": {
            "application/javascript": [
              "data_to_show.push(98);"
            ]
          },
          "metadata": {
            "tags": []
          }
        },
        {
          "output_type": "display_data",
          "data": {
            "application/javascript": [
              "positions.push([-0.8287733342145753, 0.0, -0.5595844534070401]);"
            ]
          },
          "metadata": {
            "tags": []
          }
        },
        {
          "output_type": "display_data",
          "data": {
            "application/javascript": [
              "data_to_show.push(99);"
            ]
          },
          "metadata": {
            "tags": []
          }
        },
        {
          "output_type": "display_data",
          "data": {
            "application/javascript": [
              "positions.push([-0.8320101998194003, 0.0, -0.5547603332940105]);"
            ]
          },
          "metadata": {
            "tags": []
          }
        },
        {
          "output_type": "display_data",
          "data": {
            "application/javascript": [
              "data_to_show.push(100);"
            ]
          },
          "metadata": {
            "tags": []
          }
        },
        {
          "output_type": "display_data",
          "data": {
            "application/javascript": [
              "positions.push([-0.8347611595564443, 0.0, -0.5506122106310216]);"
            ]
          },
          "metadata": {
            "tags": []
          }
        },
        {
          "output_type": "display_data",
          "data": {
            "application/javascript": [
              "data_to_show.push(101);"
            ]
          },
          "metadata": {
            "tags": []
          }
        },
        {
          "output_type": "display_data",
          "data": {
            "application/javascript": [
              "positions.push([-0.837034990986737, 0.0, -0.5471493615676009]);"
            ]
          },
          "metadata": {
            "tags": []
          }
        },
        {
          "output_type": "display_data",
          "data": {
            "application/javascript": [
              "data_to_show.push(102);"
            ]
          },
          "metadata": {
            "tags": []
          }
        },
        {
          "output_type": "display_data",
          "data": {
            "application/javascript": [
              "positions.push([-0.83883908679108, 0.0, -0.5443794508167139]);"
            ]
          },
          "metadata": {
            "tags": []
          }
        },
        {
          "output_type": "display_data",
          "data": {
            "application/javascript": [
              "data_to_show.push(103);"
            ]
          },
          "metadata": {
            "tags": []
          }
        },
        {
          "output_type": "display_data",
          "data": {
            "application/javascript": [
              "positions.push([-0.840179402495113, 0.0, -0.5423085575785753]);"
            ]
          },
          "metadata": {
            "tags": []
          }
        },
        {
          "output_type": "display_data",
          "data": {
            "application/javascript": [
              "data_to_show.push(104);"
            ]
          },
          "metadata": {
            "tags": []
          }
        },
        {
          "output_type": "display_data",
          "data": {
            "application/javascript": [
              "positions.push([-0.8410604149244567, 0.0, -0.5409411968477728]);"
            ]
          },
          "metadata": {
            "tags": []
          }
        },
        {
          "output_type": "display_data",
          "data": {
            "application/javascript": [
              "data_to_show.push(105);"
            ]
          },
          "metadata": {
            "tags": []
          }
        },
        {
          "output_type": "display_data",
          "data": {
            "application/javascript": [
              "positions.push([-0.8414850913033718, 0.0, -0.5402803356722842]);"
            ]
          },
          "metadata": {
            "tags": []
          }
        },
        {
          "output_type": "display_data",
          "data": {
            "application/javascript": [
              "data_to_show.push(106);"
            ]
          },
          "metadata": {
            "tags": []
          }
        },
        {
          "output_type": "display_data",
          "data": {
            "application/javascript": [
              "positions.push([-0.8414548689269571, 0.0, -0.5403274040423245]);"
            ]
          },
          "metadata": {
            "tags": []
          }
        },
        {
          "output_type": "display_data",
          "data": {
            "application/javascript": [
              "data_to_show.push(107);"
            ]
          },
          "metadata": {
            "tags": []
          }
        },
        {
          "output_type": "display_data",
          "data": {
            "application/javascript": [
              "positions.push([-0.8409696453582204, 0.0, -0.5410823001966235]);"
            ]
          },
          "metadata": {
            "tags": []
          }
        },
        {
          "output_type": "display_data",
          "data": {
            "application/javascript": [
              "data_to_show.push(108);"
            ]
          },
          "metadata": {
            "tags": []
          }
        },
        {
          "output_type": "display_data",
          "data": {
            "application/javascript": [
              "positions.push([-0.8400277791257996, 0.0, -0.5425433902435609]);"
            ]
          },
          "metadata": {
            "tags": []
          }
        },
        {
          "output_type": "display_data",
          "data": {
            "application/javascript": [
              "data_to_show.push(109);"
            ]
          },
          "metadata": {
            "tags": []
          }
        },
        {
          "output_type": "display_data",
          "data": {
            "application/javascript": [
              "positions.push([-0.8386261009240761, 0.0, -0.544707502104461]);"
            ]
          },
          "metadata": {
            "tags": []
          }
        },
        {
          "output_type": "display_data",
          "data": {
            "application/javascript": [
              "data_to_show.push(110);"
            ]
          },
          "metadata": {
            "tags": []
          }
        },
        {
          "output_type": "display_data",
          "data": {
            "application/javascript": [
              "positions.push([-0.8367599353432728, 0.0, -0.5475699138962274]);"
            ]
          },
          "metadata": {
            "tags": []
          }
        },
        {
          "output_type": "display_data",
          "data": {
            "application/javascript": [
              "data_to_show.push(111);"
            ]
          },
          "metadata": {
            "tags": []
          }
        },
        {
          "output_type": "display_data",
          "data": {
            "application/javascript": [
              "positions.push([-0.8344231331812519, 0.0, -0.5511243369803067]);"
            ]
          },
          "metadata": {
            "tags": []
          }
        },
        {
          "output_type": "display_data",
          "data": {
            "application/javascript": [
              "data_to_show.push(112);"
            ]
          },
          "metadata": {
            "tags": []
          }
        },
        {
          "output_type": "display_data",
          "data": {
            "application/javascript": [
              "positions.push([-0.8316081144095021, 0.0, -0.5553628940146006]);"
            ]
          },
          "metadata": {
            "tags": []
          }
        },
        {
          "output_type": "display_data",
          "data": {
            "application/javascript": [
              "data_to_show.push(113);"
            ]
          },
          "metadata": {
            "tags": []
          }
        },
        {
          "output_type": "display_data",
          "data": {
            "application/javascript": [
              "positions.push([-0.8283059218816389, 0.0, -0.5602760924542546]);"
            ]
          },
          "metadata": {
            "tags": []
          }
        },
        {
          "output_type": "display_data",
          "data": {
            "application/javascript": [
              "data_to_show.push(114);"
            ]
          },
          "metadata": {
            "tags": []
          }
        },
        {
          "output_type": "display_data",
          "data": {
            "application/javascript": [
              "positions.push([-0.8245062858820854, 0.0, -0.565852794055953]);"
            ]
          },
          "metadata": {
            "tags": []
          }
        },
        {
          "output_type": "display_data",
          "data": {
            "application/javascript": [
              "data_to_show.push(115);"
            ]
          },
          "metadata": {
            "tags": []
          }
        },
        {
          "output_type": "display_data",
          "data": {
            "application/javascript": [
              "positions.push([-0.8201976996139368, 0.0, -0.5720801810480819]);"
            ]
          },
          "metadata": {
            "tags": []
          }
        },
        {
          "output_type": "display_data",
          "data": {
            "application/javascript": [
              "data_to_show.push(116);"
            ]
          },
          "metadata": {
            "tags": []
          }
        },
        {
          "output_type": "display_data",
          "data": {
            "application/javascript": [
              "positions.push([-0.8153675057169035, 0.0, -0.5789437197353429]);"
            ]
          },
          "metadata": {
            "tags": []
          }
        },
        {
          "output_type": "display_data",
          "data": {
            "application/javascript": [
              "data_to_show.push(117);"
            ]
          },
          "metadata": {
            "tags": []
          }
        },
        {
          "output_type": "display_data",
          "data": {
            "application/javascript": [
              "positions.push([-0.8100019938873302, 0.0, -0.5864271224104061]);"
            ]
          },
          "metadata": {
            "tags": []
          }
        },
        {
          "output_type": "display_data",
          "data": {
            "application/javascript": [
              "data_to_show.push(118);"
            ]
          },
          "metadata": {
            "tags": []
          }
        },
        {
          "output_type": "display_data",
          "data": {
            "application/javascript": [
              "positions.push([-0.8040865096413442, 0.0, -0.5945123085460894]);"
            ]
          },
          "metadata": {
            "tags": []
          }
        },
        {
          "output_type": "display_data",
          "data": {
            "application/javascript": [
              "data_to_show.push(119);"
            ]
          },
          "metadata": {
            "tags": []
          }
        },
        {
          "output_type": "display_data",
          "data": {
            "application/javascript": [
              "positions.push([-0.7976055742181147, 0.0, -0.6031793663382323]);"
            ]
          },
          "metadata": {
            "tags": []
          }
        },
        {
          "output_type": "display_data",
          "data": {
            "application/javascript": [
              "data_to_show.push(120);"
            ]
          },
          "metadata": {
            "tags": []
          }
        },
        {
          "output_type": "display_data",
          "data": {
            "application/javascript": [
              "positions.push([-0.7905430155620733, 0.0, -0.6124065157605882]);"
            ]
          },
          "metadata": {
            "tags": []
          }
        },
        {
          "output_type": "display_data",
          "data": {
            "application/javascript": [
              "data_to_show.push(121);"
            ]
          },
          "metadata": {
            "tags": []
          }
        },
        {
          "output_type": "display_data",
          "data": {
            "application/javascript": [
              "positions.push([-0.7828821102500337, 0.0, -0.6221700743771384]);"
            ]
          },
          "metadata": {
            "tags": []
          }
        },
        {
          "output_type": "display_data",
          "data": {
            "application/javascript": [
              "data_to_show.push(122);"
            ]
          },
          "metadata": {
            "tags": []
          }
        },
        {
          "output_type": "display_data",
          "data": {
            "application/javascript": [
              "positions.push([-0.7746057361410089, 0.0, -0.6324444272325005]);"
            ]
          },
          "metadata": {
            "tags": []
          }
        },
        {
          "output_type": "display_data",
          "data": {
            "application/javascript": [
              "data_to_show.push(123);"
            ]
          },
          "metadata": {
            "tags": []
          }
        },
        {
          "output_type": "display_data",
          "data": {
            "application/javascript": [
              "positions.push([-0.7656965354229538, 0.0, -0.6432020022055943]);"
            ]
          },
          "metadata": {
            "tags": []
          }
        },
        {
          "output_type": "display_data",
          "data": {
            "application/javascript": [
              "data_to_show.push(124);"
            ]
          },
          "metadata": {
            "tags": []
          }
        },
        {
          "output_type": "display_data",
          "data": {
            "application/javascript": [
              "positions.push([-0.756137087611852, 0.0, -0.6544132522633282]);"
            ]
          },
          "metadata": {
            "tags": []
          }
        },
        {
          "output_type": "display_data",
          "data": {
            "application/javascript": [
              "data_to_show.push(125);"
            ]
          },
          "metadata": {
            "tags": []
          }
        },
        {
          "output_type": "display_data",
          "data": {
            "application/javascript": [
              "positions.push([-0.74591009192502, 0.0, -0.6660466460875005]);"
            ]
          },
          "metadata": {
            "tags": []
          }
        },
        {
          "output_type": "display_data",
          "data": {
            "application/javascript": [
              "data_to_show.push(126);"
            ]
          },
          "metadata": {
            "tags": []
          }
        },
        {
          "output_type": "display_data",
          "data": {
            "application/javascript": [
              "positions.push([-0.7349985583031983, 0.0, -0.678068668566997]);"
            ]
          },
          "metadata": {
            "tags": []
          }
        },
        {
          "output_type": "display_data",
          "data": {
            "application/javascript": [
              "data_to_show.push(127);"
            ]
          },
          "metadata": {
            "tags": []
          }
        },
        {
          "output_type": "display_data",
          "data": {
            "application/javascript": [
              "positions.push([-0.7233860061963275, 0.0, -0.6904438326463107]);"
            ]
          },
          "metadata": {
            "tags": []
          }
        },
        {
          "output_type": "display_data",
          "data": {
            "application/javascript": [
              "data_to_show.push(128);"
            ]
          },
          "metadata": {
            "tags": []
          }
        },
        {
          "output_type": "display_data",
          "data": {
            "application/javascript": [
              "positions.push([-0.71105667005777, 0.0, -0.7031347039980005]);"
            ]
          },
          "metadata": {
            "tags": []
          }
        },
        {
          "output_type": "display_data",
          "data": {
            "application/javascript": [
              "data_to_show.push(129);"
            ]
          },
          "metadata": {
            "tags": []
          }
        },
        {
          "output_type": "display_data",
          "data": {
            "application/javascript": [
              "positions.push([-0.6979957103135145, 0.0, -0.716101939938674]);"
            ]
          },
          "metadata": {
            "tags": []
          }
        },
        {
          "output_type": "display_data",
          "data": {
            "application/javascript": [
              "data_to_show.push(130);"
            ]
          },
          "metadata": {
            "tags": []
          }
        },
        {
          "output_type": "display_data",
          "data": {
            "application/javascript": [
              "positions.push([-0.6841894283895398, 0.0, -0.7293043439333095]);"
            ]
          },
          "metadata": {
            "tags": []
          }
        },
        {
          "output_type": "display_data",
          "data": {
            "application/javascript": [
              "data_to_show.push(131);"
            ]
          },
          "metadata": {
            "tags": []
          }
        },
        {
          "output_type": "display_data",
          "data": {
            "application/javascript": [
              "positions.push([-0.6696254841953941, 0.0, -0.7426989369294155]);"
            ]
          },
          "metadata": {
            "tags": []
          }
        },
        {
          "output_type": "display_data",
          "data": {
            "application/javascript": [
              "data_to_show.push(132);"
            ]
          },
          "metadata": {
            "tags": []
          }
        },
        {
          "output_type": "display_data",
          "data": {
            "application/javascript": [
              "positions.push([-0.6542931142791455, 0.0, -0.7562410466292457]);"
            ]
          },
          "metadata": {
            "tags": []
          }
        },
        {
          "output_type": "display_data",
          "data": {
            "application/javascript": [
              "data_to_show.push(133);"
            ]
          },
          "metadata": {
            "tags": []
          }
        },
        {
          "output_type": "display_data",
          "data": {
            "application/javascript": [
              "positions.push([-0.6381833486924944, 0.0, -0.7698844156440849]);"
            ]
          },
          "metadata": {
            "tags": []
          }
        },
        {
          "output_type": "display_data",
          "data": {
            "application/javascript": [
              "data_to_show.push(134);"
            ]
          },
          "metadata": {
            "tags": []
          }
        },
        {
          "output_type": "display_data",
          "data": {
            "application/javascript": [
              "positions.push([-0.6212892244398311, 0.0, -0.7835813292791969]);"
            ]
          },
          "metadata": {
            "tags": []
          }
        },
        {
          "output_type": "display_data",
          "data": {
            "application/javascript": [
              "data_to_show.push(135);"
            ]
          },
          "metadata": {
            "tags": []
          }
        },
        {
          "output_type": "display_data",
          "data": {
            "application/javascript": [
              "positions.push([-0.6036059932364002, 0.0, -0.7972827634717177]);"
            ]
          },
          "metadata": {
            "tags": []
          }
        },
        {
          "output_type": "display_data",
          "data": {
            "application/javascript": [
              "data_to_show.push(136);"
            ]
          },
          "metadata": {
            "tags": []
          }
        },
        {
          "output_type": "display_data",
          "data": {
            "application/javascript": [
              "positions.push([-0.585131321173813, 0.0, -0.8109385531477635]);"
            ]
          },
          "metadata": {
            "tags": []
          }
        },
        {
          "output_type": "display_data",
          "data": {
            "application/javascript": [
              "data_to_show.push(137);"
            ]
          },
          "metadata": {
            "tags": []
          }
        },
        {
          "output_type": "display_data",
          "data": {
            "application/javascript": [
              "positions.push([-0.5658654777912749, 0.0, -0.8244975809813223]);"
            ]
          },
          "metadata": {
            "tags": []
          }
        },
        {
          "output_type": "display_data",
          "data": {
            "application/javascript": [
              "data_to_show.push(138);"
            ]
          },
          "metadata": {
            "tags": []
          }
        },
        {
          "output_type": "display_data",
          "data": {
            "application/javascript": [
              "positions.push([-0.5458115119833398, 0.0, -0.8379079862290731]);"
            ]
          },
          "metadata": {
            "tags": []
          }
        },
        {
          "output_type": "display_data",
          "data": {
            "application/javascript": [
              "data_to_show.push(139);"
            ]
          },
          "metadata": {
            "tags": []
          }
        },
        {
          "output_type": "display_data",
          "data": {
            "application/javascript": [
              "positions.push([-0.5249754121448266, 0.0, -0.8511173929860495]);"
            ]
          },
          "metadata": {
            "tags": []
          }
        },
        {
          "output_type": "display_data",
          "data": {
            "application/javascript": [
              "data_to_show.push(140);"
            ]
          },
          "metadata": {
            "tags": []
          }
        },
        {
          "output_type": "display_data",
          "data": {
            "application/javascript": [
              "positions.push([-0.5033662479653475, 0.0, -0.8640731568618992]);"
            ]
          },
          "metadata": {
            "tags": []
          }
        },
        {
          "output_type": "display_data",
          "data": {
            "application/javascript": [
              "data_to_show.push(141);"
            ]
          },
          "metadata": {
            "tags": []
          }
        },
        {
          "output_type": "display_data",
          "data": {
            "application/javascript": [
              "positions.push([-0.4809962913436987, 0.0, -0.8767226287222246]);"
            ]
          },
          "metadata": {
            "tags": []
          }
        },
        {
          "output_type": "display_data",
          "data": {
            "application/javascript": [
              "data_to_show.push(142);"
            ]
          },
          "metadata": {
            "tags": []
          }
        },
        {
          "output_type": "display_data",
          "data": {
            "application/javascript": [
              "positions.push([-0.4578811139993742, 0.0, -0.8890134337807793]);"
            ]
          },
          "metadata": {
            "tags": []
          }
        },
        {
          "output_type": "display_data",
          "data": {
            "application/javascript": [
              "data_to_show.push(143);"
            ]
          },
          "metadata": {
            "tags": []
          }
        },
        {
          "output_type": "display_data",
          "data": {
            "application/javascript": [
              "positions.push([-0.43403965951687434, 0.0, -0.9008937639735752]);"
            ]
          },
          "metadata": {
            "tags": []
          }
        },
        {
          "output_type": "display_data",
          "data": {
            "application/javascript": [
              "data_to_show.push(144);"
            ]
          },
          "metadata": {
            "tags": []
          }
        },
        {
          "output_type": "display_data",
          "data": {
            "application/javascript": [
              "positions.push([-0.40949428776934893, 0.0, -0.9123126812032559]);"
            ]
          },
          "metadata": {
            "tags": []
          }
        },
        {
          "output_type": "display_data",
          "data": {
            "application/javascript": [
              "data_to_show.push(145);"
            ]
          },
          "metadata": {
            "tags": []
          }
        },
        {
          "output_type": "display_data",
          "data": {
            "application/javascript": [
              "positions.push([-0.3842707899311688, 0.0, -0.9232204287198564]);"
            ]
          },
          "metadata": {
            "tags": []
          }
        },
        {
          "output_type": "display_data",
          "data": {
            "application/javascript": [
              "data_to_show.push(146);"
            ]
          },
          "metadata": {
            "tags": []
          }
        },
        {
          "output_type": "display_data",
          "data": {
            "application/javascript": [
              "positions.push([-0.3583983726025627, 0.0, -0.933568747610927]);"
            ]
          },
          "metadata": {
            "tags": []
          }
        },
        {
          "output_type": "display_data",
          "data": {
            "application/javascript": [
              "data_to_show.push(147);"
            ]
          },
          "metadata": {
            "tags": []
          }
        },
        {
          "output_type": "display_data",
          "data": {
            "application/javascript": [
              "positions.push([-0.3319096099302894, 0.0, -0.9433111951185161]);"
            ]
          },
          "metadata": {
            "tags": []
          }
        },
        {
          "output_type": "display_data",
          "data": {
            "application/javascript": [
              "data_to_show.push(148);"
            ]
          },
          "metadata": {
            "tags": []
          }
        },
        {
          "output_type": "display_data",
          "data": {
            "application/javascript": [
              "positions.push([-0.3048403630116975, 0.0, -0.952403461290905]);"
            ]
          },
          "metadata": {
            "tags": []
          }
        },
        {
          "output_type": "display_data",
          "data": {
            "application/javascript": [
              "data_to_show.push(149);"
            ]
          },
          "metadata": {
            "tags": []
          }
        },
        {
          "output_type": "display_data",
          "data": {
            "application/javascript": [
              "positions.push([-0.27722966630921353, 0.0, -0.9608036803208458]);"
            ]
          },
          "metadata": {
            "tags": []
          }
        },
        {
          "output_type": "display_data",
          "data": {
            "application/javascript": [
              "data_to_show.push(150);"
            ]
          },
          "metadata": {
            "tags": []
          }
        },
        {
          "output_type": "display_data",
          "data": {
            "application/javascript": [
              "positions.push([-0.2491195812706338, 0.0, -0.968472732826043]);"
            ]
          },
          "metadata": {
            "tags": []
          }
        },
        {
          "output_type": "display_data",
          "data": {
            "application/javascript": [
              "data_to_show.push(151);"
            ]
          },
          "metadata": {
            "tags": []
          }
        },
        {
          "output_type": "display_data",
          "data": {
            "application/javascript": [
              "positions.push([-0.22055501783863088, 0.0, -0.9753745352971859]);"
            ]
          },
          "metadata": {
            "tags": []
          }
        },
        {
          "output_type": "display_data",
          "data": {
            "application/javascript": [
              "data_to_show.push(152);"
            ]
          },
          "metadata": {
            "tags": []
          }
        },
        {
          "output_type": "display_data",
          "data": {
            "application/javascript": [
              "positions.push([-0.19158352503060977, 0.0, -0.981476312977978]);"
            ]
          },
          "metadata": {
            "tags": []
          }
        },
        {
          "output_type": "display_data",
          "data": {
            "application/javascript": [
              "data_to_show.push(153);"
            ]
          },
          "metadata": {
            "tags": []
          }
        },
        {
          "output_type": "display_data",
          "data": {
            "application/javascript": [
              "positions.push([-0.16225505226663903, 0.0, -0.9867488525526392]);"
            ]
          },
          "metadata": {
            "tags": []
          }
        },
        {
          "output_type": "display_data",
          "data": {
            "application/javascript": [
              "data_to_show.push(154);"
            ]
          },
          "metadata": {
            "tags": []
          }
        },
        {
          "output_type": "display_data",
          "data": {
            "application/javascript": [
              "positions.push([-0.1326216836072975, 0.0, -0.9911667311997341]);"
            ]
          },
          "metadata": {
            "tags": []
          }
        },
        {
          "output_type": "display_data",
          "data": {
            "application/javascript": [
              "data_to_show.push(155);"
            ]
          },
          "metadata": {
            "tags": []
          }
        },
        {
          "output_type": "display_data",
          "data": {
            "application/javascript": [
              "positions.push([-0.10273734752342217, 0.0, -0.9947085188254153]);"
            ]
          },
          "metadata": {
            "tags": []
          }
        },
        {
          "output_type": "display_data",
          "data": {
            "application/javascript": [
              "data_to_show.push(156);"
            ]
          },
          "metadata": {
            "tags": []
          }
        },
        {
          "output_type": "display_data",
          "data": {
            "application/javascript": [
              "positions.push([-0.07265750524461044, 0.0, -0.9973569506107778]);"
            ]
          },
          "metadata": {
            "tags": []
          }
        },
        {
          "output_type": "display_data",
          "data": {
            "application/javascript": [
              "data_to_show.push(157);"
            ]
          },
          "metadata": {
            "tags": []
          }
        },
        {
          "output_type": "display_data",
          "data": {
            "application/javascript": [
              "positions.push([-0.04243882111219573, 0.0, -0.999099067391521]);"
            ]
          },
          "metadata": {
            "tags": []
          }
        },
        {
          "output_type": "display_data",
          "data": {
            "application/javascript": [
              "data_to_show.push(158);"
            ]
          },
          "metadata": {
            "tags": []
          }
        },
        {
          "output_type": "display_data",
          "data": {
            "application/javascript": [
              "positions.push([-0.012138818685492932, 0.0, -0.9999263218262238]);"
            ]
          },
          "metadata": {
            "tags": []
          }
        },
        {
          "output_type": "display_data",
          "data": {
            "application/javascript": [
              "data_to_show.push(159);"
            ]
          },
          "metadata": {
            "tags": []
          }
        },
        {
          "output_type": "display_data",
          "data": {
            "application/javascript": [
              "positions.push([0.018184473391097914, 0.0, -0.9998346487932335]);"
            ]
          },
          "metadata": {
            "tags": []
          }
        },
        {
          "output_type": "display_data",
          "data": {
            "application/javascript": [
              "data_to_show.push(160);"
            ]
          },
          "metadata": {
            "tags": []
          }
        },
        {
          "output_type": "display_data",
          "data": {
            "application/javascript": [
              "positions.push([0.048472881564936454, 0.0, -0.998824498975066]);"
            ]
          },
          "metadata": {
            "tags": []
          }
        },
        {
          "output_type": "display_data",
          "data": {
            "application/javascript": [
              "data_to_show.push(161);"
            ]
          },
          "metadata": {
            "tags": []
          }
        },
        {
          "output_type": "display_data",
          "data": {
            "application/javascript": [
              "positions.push([0.07866844928938128, 0.0, -0.9969008351317618]);"
            ]
          },
          "metadata": {
            "tags": []
          }
        },
        {
          "output_type": "display_data",
          "data": {
            "application/javascript": [
              "data_to_show.push(162);"
            ]
          },
          "metadata": {
            "tags": []
          }
        },
        {
          "output_type": "display_data",
          "data": {
            "application/javascript": [
              "positions.push([0.10871379633677315, 0.0, -0.994073091118579]);"
            ]
          },
          "metadata": {
            "tags": []
          }
        },
        {
          "output_type": "display_data",
          "data": {
            "application/javascript": [
              "data_to_show.push(163);"
            ]
          },
          "metadata": {
            "tags": []
          }
        },
        {
          "output_type": "display_data",
          "data": {
            "application/javascript": [
              "positions.push([0.13855247121955291, 0.0, -0.9903550942560728]);"
            ]
          },
          "metadata": {
            "tags": []
          }
        },
        {
          "output_type": "display_data",
          "data": {
            "application/javascript": [
              "data_to_show.push(164);"
            ]
          },
          "metadata": {
            "tags": []
          }
        },
        {
          "output_type": "display_data",
          "data": {
            "application/javascript": [
              "positions.push([0.16812929255577727, 0.0, -0.9857649521994043]);"
            ]
          },
          "metadata": {
            "tags": []
          }
        },
        {
          "output_type": "display_data",
          "data": {
            "application/javascript": [
              "data_to_show.push(165);"
            ]
          },
          "metadata": {
            "tags": []
          }
        },
        {
          "output_type": "display_data",
          "data": {
            "application/javascript": [
              "positions.push([0.19739067541756114, 0.0, -0.9803249059664857]);"
            ]
          },
          "metadata": {
            "tags": []
          }
        },
        {
          "output_type": "display_data",
          "data": {
            "application/javascript": [
              "data_to_show.push(166);"
            ]
          },
          "metadata": {
            "tags": []
          }
        },
        {
          "output_type": "display_data",
          "data": {
            "application/javascript": [
              "positions.push([0.2262849389731914, 0.0, -0.9740611512599705]);"
            ]
          },
          "metadata": {
            "tags": []
          }
        },
        {
          "output_type": "display_data",
          "data": {
            "application/javascript": [
              "data_to_show.push(167);"
            ]
          },
          "metadata": {
            "tags": []
          }
        },
        {
          "output_type": "display_data",
          "data": {
            "application/javascript": [
              "positions.push([0.2547625920685838, 0.0, -0.9670036306459745]);"
            ]
          },
          "metadata": {
            "tags": []
          }
        },
        {
          "output_type": "display_data",
          "data": {
            "application/javascript": [
              "data_to_show.push(168);"
            ]
          },
          "metadata": {
            "tags": []
          }
        },
        {
          "output_type": "display_data",
          "data": {
            "application/javascript": [
              "positions.push([0.28277659378260844, 0.0, -0.9591857995241098]);"
            ]
          },
          "metadata": {
            "tags": []
          }
        },
        {
          "output_type": "display_data",
          "data": {
            "application/javascript": [
              "data_to_show.push(169);"
            ]
          },
          "metadata": {
            "tags": []
          }
        },
        {
          "output_type": "display_data",
          "data": {
            "application/javascript": [
              "positions.push([0.31028258642359285, 0.0, -0.9506443691319513]);"
            ]
          },
          "metadata": {
            "tags": []
          }
        },
        {
          "output_type": "display_data",
          "data": {
            "application/javascript": [
              "data_to_show.push(170);"
            ]
          },
          "metadata": {
            "tags": []
          }
        },
        {
          "output_type": "display_data",
          "data": {
            "application/javascript": [
              "positions.push([0.3372390989001488, 0.0, -0.9414190300673848]);"
            ]
          },
          "metadata": {
            "tags": []
          }
        },
        {
          "output_type": "display_data",
          "data": {
            "application/javascript": [
              "data_to_show.push(171);"
            ]
          },
          "metadata": {
            "tags": []
          }
        },
        {
          "output_type": "display_data",
          "data": {
            "application/javascript": [
              "positions.push([0.3636077188869906, 0.0, -0.9315521599812858]);"
            ]
          },
          "metadata": {
            "tags": []
          }
        },
        {
          "output_type": "display_data",
          "data": {
            "application/javascript": [
              "data_to_show.push(172);"
            ]
          },
          "metadata": {
            "tags": []
          }
        },
        {
          "output_type": "display_data",
          "data": {
            "application/javascript": [
              "positions.push([0.3893532327041231, 0.0, -0.9210885191895777]);"
            ]
          },
          "metadata": {
            "tags": []
          }
        },
        {
          "output_type": "display_data",
          "data": {
            "application/javascript": [
              "data_to_show.push(173);"
            ]
          },
          "metadata": {
            "tags": []
          }
        },
        {
          "output_type": "display_data",
          "data": {
            "application/javascript": [
              "positions.push([0.4144437323244088, 0.0, -0.9100749379787435]);"
            ]
          },
          "metadata": {
            "tags": []
          }
        },
        {
          "output_type": "display_data",
          "data": {
            "application/javascript": [
              "data_to_show.push(174);"
            ]
          },
          "metadata": {
            "tags": []
          }
        },
        {
          "output_type": "display_data",
          "data": {
            "application/javascript": [
              "positions.push([0.4388506894094048, 0.0, -0.8985599993349861]);"
            ]
          },
          "metadata": {
            "tags": []
          }
        },
        {
          "output_type": "display_data",
          "data": {
            "application/javascript": [
              "data_to_show.push(175);"
            ]
          },
          "metadata": {
            "tags": []
          }
        },
        {
          "output_type": "display_data",
          "data": {
            "application/javascript": [
              "positions.push([0.462548996736651, 0.0, -0.8865937207187504]);"
            ]
          },
          "metadata": {
            "tags": []
          }
        },
        {
          "output_type": "display_data",
          "data": {
            "application/javascript": [
              "data_to_show.push(176);"
            ]
          },
          "metadata": {
            "tags": []
          }
        },
        {
          "output_type": "display_data",
          "data": {
            "application/javascript": [
              "positions.push([0.48551697781461467, 0.0, -0.874227238338959]);"
            ]
          },
          "metadata": {
            "tags": []
          }
        },
        {
          "output_type": "display_data",
          "data": {
            "application/javascript": [
              "data_to_show.push(177);"
            ]
          },
          "metadata": {
            "tags": []
          }
        },
        {
          "output_type": "display_data",
          "data": {
            "application/javascript": [
              "positions.push([0.5077363658768408, 0.0, -0.8615124971619267]);"
            ]
          },
          "metadata": {
            "tags": []
          }
        },
        {
          "output_type": "display_data",
          "data": {
            "application/javascript": [
              "data_to_show.push(178);"
            ]
          },
          "metadata": {
            "tags": []
          }
        },
        {
          "output_type": "display_data",
          "data": {
            "application/javascript": [
              "positions.push([0.529192253798593, 0.0, -0.8485019496262607]);"
            ]
          },
          "metadata": {
            "tags": []
          }
        },
        {
          "output_type": "display_data",
          "data": {
            "application/javascript": [
              "data_to_show.push(179);"
            ]
          },
          "metadata": {
            "tags": []
          }
        },
        {
          "output_type": "display_data",
          "data": {
            "application/javascript": [
              "positions.push([0.5498730167829495, 0.0, -0.8352482657354148]);"
            ]
          },
          "metadata": {
            "tags": []
          }
        },
        {
          "output_type": "display_data",
          "data": {
            "application/javascript": [
              "data_to_show.push(180);"
            ]
          },
          "metadata": {
            "tags": []
          }
        },
        {
          "output_type": "display_data",
          "data": {
            "application/javascript": [
              "positions.push([0.569770209916057, 0.0, -0.8218040568725689]);"
            ]
          },
          "metadata": {
            "tags": []
          }
        },
        {
          "output_type": "display_data",
          "data": {
            "application/javascript": [
              "data_to_show.push(181);"
            ]
          },
          "metadata": {
            "tags": []
          }
        },
        {
          "output_type": "display_data",
          "data": {
            "application/javascript": [
              "positions.push([0.5888784428916308, 0.0, -0.8082216153367394]);"
            ]
          },
          "metadata": {
            "tags": []
          }
        },
        {
          "output_type": "display_data",
          "data": {
            "application/javascript": [
              "data_to_show.push(182);"
            ]
          },
          "metadata": {
            "tags": []
          }
        },
        {
          "output_type": "display_data",
          "data": {
            "application/javascript": [
              "positions.push([0.6071952343528266, 0.0, -0.7945526712428924]);"
            ]
          },
          "metadata": {
            "tags": []
          }
        },
        {
          "output_type": "display_data",
          "data": {
            "application/javascript": [
              "data_to_show.push(183);"
            ]
          },
          "metadata": {
            "tags": []
          }
        },
        {
          "output_type": "display_data",
          "data": {
            "application/javascript": [
              "positions.push([0.6247208483965957, 0.0, -0.7808481680702323]);"
            ]
          },
          "metadata": {
            "tags": []
          }
        },
        {
          "output_type": "display_data",
          "data": {
            "application/javascript": [
              "data_to_show.push(184);"
            ]
          },
          "metadata": {
            "tags": []
          }
        },
        {
          "output_type": "display_data",
          "data": {
            "application/javascript": [
              "positions.push([0.641458115833986, 0.0, -0.7671580577890794]);"
            ]
          },
          "metadata": {
            "tags": []
          }
        },
        {
          "output_type": "display_data",
          "data": {
            "application/javascript": [
              "data_to_show.push(185);"
            ]
          },
          "metadata": {
            "tags": []
          }
        },
        {
          "output_type": "display_data",
          "data": {
            "application/javascript": [
              "positions.push([0.6574122428029489, 0.0, -0.7535311161543342]);"
            ]
          },
          "metadata": {
            "tags": []
          }
        },
        {
          "output_type": "display_data",
          "data": {
            "application/javascript": [
              "data_to_show.push(186);"
            ]
          },
          "metadata": {
            "tags": []
          }
        },
        {
          "output_type": "display_data",
          "data": {
            "application/javascript": [
              "positions.push([0.6725906092921907, 0.0, -0.7400147784280796]);"
            ]
          },
          "metadata": {
            "tags": []
          }
        },
        {
          "output_type": "display_data",
          "data": {
            "application/javascript": [
              "data_to_show.push(187);"
            ]
          },
          "metadata": {
            "tags": []
          }
        },
        {
          "output_type": "display_data",
          "data": {
            "application/javascript": [
              "positions.push([0.6870025600602087, 0.0, -0.7266549954901015]);"
            ]
          },
          "metadata": {
            "tags": []
          }
        },
        {
          "output_type": "display_data",
          "data": {
            "application/javascript": [
              "data_to_show.push(188);"
            ]
          },
          "metadata": {
            "tags": []
          }
        },
        {
          "output_type": "display_data",
          "data": {
            "application/javascript": [
              "positions.push([0.7006591903279431, 0.0, -0.7134961100167199]);"
            ]
          },
          "metadata": {
            "tags": []
          }
        },
        {
          "output_type": "display_data",
          "data": {
            "application/javascript": [
              "data_to_show.push(189);"
            ]
          },
          "metadata": {
            "tags": []
          }
        },
        {
          "output_type": "display_data",
          "data": {
            "application/javascript": [
              "positions.push([0.7135731284918124, 0.0, -0.7005807521580988]);"
            ]
          },
          "metadata": {
            "tags": []
          }
        },
        {
          "output_type": "display_data",
          "data": {
            "application/javascript": [
              "data_to_show.push(190);"
            ]
          },
          "metadata": {
            "tags": []
          }
        },
        {
          "output_type": "display_data",
          "data": {
            "application/javascript": [
              "positions.push([0.7257583179515876, 0.0, -0.6879497539239928]);"
            ]
          },
          "metadata": {
            "tags": []
          }
        },
        {
          "output_type": "display_data",
          "data": {
            "application/javascript": [
              "data_to_show.push(191);"
            ]
          },
          "metadata": {
            "tags": []
          }
        },
        {
          "output_type": "display_data",
          "data": {
            "application/javascript": [
              "positions.push([0.7372297999798951, 0.0, -0.6756420812986739]);"
            ]
          },
          "metadata": {
            "tags": []
          }
        },
        {
          "output_type": "display_data",
          "data": {
            "application/javascript": [
              "data_to_show.push(192);"
            ]
          },
          "metadata": {
            "tags": []
          }
        },
        {
          "output_type": "display_data",
          "data": {
            "application/javascript": [
              "positions.push([0.7480034993821004, 0.0, -0.6636947829478036]);"
            ]
          },
          "metadata": {
            "tags": []
          }
        },
        {
          "output_type": "display_data",
          "data": {
            "application/javascript": [
              "data_to_show.push(193);"
            ]
          },
          "metadata": {
            "tags": []
          }
        },
        {
          "output_type": "display_data",
          "data": {
            "application/javascript": [
              "positions.push([0.7580960145116427, 0.0, -0.6521429542527951]);"
            ]
          },
          "metadata": {
            "tags": []
          }
        },
        {
          "output_type": "display_data",
          "data": {
            "application/javascript": [
              "data_to_show.push(194);"
            ]
          },
          "metadata": {
            "tags": []
          }
        },
        {
          "output_type": "display_data",
          "data": {
            "application/javascript": [
              "positions.push([0.7675244130208297, 0.0, -0.6410197153107154]);"
            ]
          },
          "metadata": {
            "tags": []
          }
        },
        {
          "output_type": "display_data",
          "data": {
            "application/javascript": [
              "data_to_show.push(195);"
            ]
          },
          "metadata": {
            "tags": []
          }
        },
        {
          "output_type": "display_data",
          "data": {
            "application/javascript": [
              "positions.push([0.7763060345445031, 0.0, -0.6303562014684941]);"
            ]
          },
          "metadata": {
            "tags": []
          }
        },
        {
          "output_type": "display_data",
          "data": {
            "application/javascript": [
              "data_to_show.push(196);"
            ]
          },
          "metadata": {
            "tags": []
          }
        },
        {
          "output_type": "display_data",
          "data": {
            "application/javascript": [
              "positions.push([0.7844583013371577, 0.0, -0.6201815649172596]);"
            ]
          },
          "metadata": {
            "tags": []
          }
        },
        {
          "output_type": "display_data",
          "data": {
            "application/javascript": [
              "data_to_show.push(197);"
            ]
          },
          "metadata": {
            "tags": []
          }
        },
        {
          "output_type": "display_data",
          "data": {
            "application/javascript": [
              "positions.push([0.7919985377158787, 0.0, -0.6105229858538578]);"
            ]
          },
          "metadata": {
            "tags": []
          }
        },
        {
          "output_type": "display_data",
          "data": {
            "application/javascript": [
              "data_to_show.push(198);"
            ]
          },
          "metadata": {
            "tags": []
          }
        },
        {
          "output_type": "display_data",
          "data": {
            "application/javascript": [
              "positions.push([0.798943799004111, 0.0, -0.601405691719723]);"
            ]
          },
          "metadata": {
            "tags": []
          }
        },
        {
          "output_type": "display_data",
          "data": {
            "application/javascript": [
              "data_to_show.push(199);"
            ]
          },
          "metadata": {
            "tags": []
          }
        },
        {
          "output_type": "display_data",
          "data": {
            "application/javascript": [
              "positions.push([0.8053107105266248, 0.0, -0.5928529830498473]);"
            ]
          },
          "metadata": {
            "tags": []
          }
        },
        {
          "output_type": "display_data",
          "data": {
            "application/javascript": [
              "data_to_show.push(200);"
            ]
          },
          "metadata": {
            "tags": []
          }
        },
        {
          "output_type": "display_data",
          "data": {
            "application/javascript": [
              "positions.push([0.8111153170753699, 0.0, -0.5848862645042386]);"
            ]
          },
          "metadata": {
            "tags": []
          }
        },
        {
          "output_type": "display_data",
          "data": {
            "application/javascript": [
              "data_to_show.push(201);"
            ]
          },
          "metadata": {
            "tags": []
          }
        },
        {
          "output_type": "display_data",
          "data": {
            "application/javascript": [
              "positions.push([0.8163729431501083, 0.0, -0.5775250797086044]);"
            ]
          },
          "metadata": {
            "tags": []
          }
        },
        {
          "output_type": "display_data",
          "data": {
            "application/javascript": [
              "data_to_show.push(202);"
            ]
          },
          "metadata": {
            "tags": []
          }
        },
        {
          "output_type": "display_data",
          "data": {
            "application/javascript": [
              "positions.push([0.8210980641772266, 0.0, -0.5707871485978034]);"
            ]
          },
          "metadata": {
            "tags": []
          }
        },
        {
          "output_type": "display_data",
          "data": {
            "application/javascript": [
              "data_to_show.push(203);"
            ]
          },
          "metadata": {
            "tags": []
          }
        },
        {
          "output_type": "display_data",
          "data": {
            "application/javascript": [
              "positions.push([0.8253041888250394, 0.0, -0.5646884060327816]);"
            ]
          },
          "metadata": {
            "tags": []
          }
        },
        {
          "output_type": "display_data",
          "data": {
            "application/javascript": [
              "data_to_show.push(204);"
            ]
          },
          "metadata": {
            "tags": []
          }
        },
        {
          "output_type": "display_data",
          "data": {
            "application/javascript": [
              "positions.push([0.829003752463988, 0.0, -0.5592430405473339]);"
            ]
          },
          "metadata": {
            "tags": []
          }
        },
        {
          "output_type": "display_data",
          "data": {
            "application/javascript": [
              "data_to_show.push(205);"
            ]
          },
          "metadata": {
            "tags": []
          }
        },
        {
          "output_type": "display_data",
          "data": {
            "application/javascript": [
              "positions.push([0.8322080217648651, 0.0, -0.5544635321734063]);"
            ]
          },
          "metadata": {
            "tags": []
          }
        },
        {
          "output_type": "display_data",
          "data": {
            "application/javascript": [
              "data_to_show.push(206);"
            ]
          },
          "metadata": {
            "tags": []
          }
        },
        {
          "output_type": "display_data",
          "data": {
            "application/javascript": [
              "positions.push([0.8349270103868276, 0.0, -0.5503606883912715]);"
            ]
          },
          "metadata": {
            "tags": []
          }
        },
        {
          "output_type": "display_data",
          "data": {
            "application/javascript": [
              "data_to_show.push(207);"
            ]
          },
          "metadata": {
            "tags": []
          }
        },
        {
          "output_type": "display_data",
          "data": {
            "application/javascript": [
              "positions.push([0.8371694056785103, 0.0, -0.5469436773525131]);"
            ]
          },
          "metadata": {
            "tags": []
          }
        },
        {
          "output_type": "display_data",
          "data": {
            "application/javascript": [
              "data_to_show.push(208);"
            ]
          },
          "metadata": {
            "tags": []
          }
        },
        {
          "output_type": "display_data",
          "data": {
            "application/javascript": [
              "positions.push([0.8389425062989054, 0.0, -0.5442200576282641]);"
            ]
          },
          "metadata": {
            "tags": []
          }
        },
        {
          "output_type": "display_data",
          "data": {
            "application/javascript": [
              "data_to_show.push(209);"
            ]
          },
          "metadata": {
            "tags": []
          }
        },
        {
          "output_type": "display_data",
          "data": {
            "application/javascript": [
              "positions.push([0.8402521706585655, 0.0, -0.54219580384172]);"
            ]
          },
          "metadata": {
            "tags": []
          }
        },
        {
          "output_type": "display_data",
          "data": {
            "application/javascript": [
              "data_to_show.push(210);"
            ]
          },
          "metadata": {
            "tags": []
          }
        },
        {
          "output_type": "display_data",
          "data": {
            "application/javascript": [
              "positions.push([0.8411027760847317, 0.0, -0.5408753276519069]);"
            ]
          },
          "metadata": {
            "tags": []
          }
        },
        {
          "output_type": "display_data",
          "data": {
            "application/javascript": [
              "data_to_show.push(211);"
            ]
          },
          "metadata": {
            "tags": []
          }
        },
        {
          "output_type": "display_data",
          "data": {
            "application/javascript": [
              "positions.push([0.8414971886247523, 0.0, -0.5402614936645384]);"
            ]
          },
          "metadata": {
            "tags": []
          }
        },
        {
          "output_type": "display_data",
          "data": {
            "application/javascript": [
              "data_to_show.push(212);"
            ]
          },
          "metadata": {
            "tags": []
          }
        },
        {
          "output_type": "display_data",
          "data": {
            "application/javascript": [
              "positions.push([0.8414367434191016, 0.0, -0.5403556299551777]);"
            ]
          },
          "metadata": {
            "tags": []
          }
        },
        {
          "output_type": "display_data",
          "data": {
            "application/javascript": [
              "data_to_show.push(213);"
            ]
          },
          "metadata": {
            "tags": []
          }
        },
        {
          "output_type": "display_data",
          "data": {
            "application/javascript": [
              "positions.push([0.8409212355968766, 0.0, -0.5411575329996084]);"
            ]
          },
          "metadata": {
            "tags": []
          }
        },
        {
          "output_type": "display_data",
          "data": {
            "application/javascript": [
              "data_to_show.push(214);"
            ]
          },
          "metadata": {
            "tags": []
          }
        },
        {
          "output_type": "display_data",
          "data": {
            "application/javascript": [
              "positions.push([0.8399489216712486, 0.0, -0.5426654669161349]);"
            ]
          },
          "metadata": {
            "tags": []
          }
        },
        {
          "output_type": "display_data",
          "data": {
            "application/javascript": [
              "data_to_show.push(215);"
            ]
          },
          "metadata": {
            "tags": []
          }
        },
        {
          "output_type": "display_data",
          "data": {
            "application/javascript": [
              "positions.push([0.8385165314383476, 0.0, -0.5448761570344244]);"
            ]
          },
          "metadata": {
            "tags": []
          }
        },
        {
          "output_type": "display_data",
          "data": {
            "application/javascript": [
              "data_to_show.push(216);"
            ]
          },
          "metadata": {
            "tags": []
          }
        },
        {
          "output_type": "display_data",
          "data": {
            "application/javascript": [
              "positions.push([0.8366192904088499, 0.0, -0.5477847779153713]);"
            ]
          },
          "metadata": {
            "tags": []
          }
        },
        {
          "output_type": "display_data",
          "data": {
            "application/javascript": [
              "data_to_show.push(217);"
            ]
          },
          "metadata": {
            "tags": []
          }
        },
        {
          "output_type": "display_data",
          "data": {
            "application/javascript": [
              "positions.push([0.8342509528254848, 0.0, -0.5513849360562644]);"
            ]
          },
          "metadata": {
            "tags": []
          }
        },
        {
          "output_type": "display_data",
          "data": {
            "application/javascript": [
              "data_to_show.push(218);"
            ]
          },
          "metadata": {
            "tags": []
          }
        },
        {
          "output_type": "display_data",
          "data": {
            "application/javascript": [
              "positions.push([0.8314038453401736, 0.0, -0.5556686476251586]);"
            ]
          },
          "metadata": {
            "tags": []
          }
        },
        {
          "output_type": "display_data",
          "data": {
            "application/javascript": [
              "data_to_show.push(219);"
            ]
          },
          "metadata": {
            "tags": []
          }
        },
        {
          "output_type": "display_data",
          "data": {
            "application/javascript": [
              "positions.push([0.8280689214399641, 0.0, -0.5606263116776222]);"
            ]
          },
          "metadata": {
            "tags": []
          }
        },
        {
          "output_type": "display_data",
          "data": {
            "application/javascript": [
              "data_to_show.push(220);"
            ]
          },
          "metadata": {
            "tags": []
          }
        },
        {
          "output_type": "display_data",
          "data": {
            "application/javascript": [
              "positions.push([0.8242358267197812, 0.0, -0.5662466794176888]);"
            ]
          },
          "metadata": {
            "tags": []
          }
        },
        {
          "output_type": "display_data",
          "data": {
            "application/javascript": [
              "data_to_show.push(221);"
            ]
          },
          "metadata": {
            "tags": []
          }
        },
        {
          "output_type": "display_data",
          "data": {
            "application/javascript": [
              "positions.push([0.8198929751007656, 0.0, -0.5725168201724865]);"
            ]
          },
          "metadata": {
            "tags": []
          }
        },
        {
          "output_type": "display_data",
          "data": {
            "application/javascript": [
              "data_to_show.push(222);"
            ]
          },
          "metadata": {
            "tags": []
          }
        },
        {
          "output_type": "display_data",
          "data": {
            "application/javascript": [
              "positions.push([0.8150276360841917, 0.0, -0.5794220848561215]);"
            ]
          },
          "metadata": {
            "tags": []
          }
        },
        {
          "output_type": "display_data",
          "data": {
            "application/javascript": [
              "data_to_show.push(223);"
            ]
          },
          "metadata": {
            "tags": []
          }
        },
        {
          "output_type": "display_data",
          "data": {
            "application/javascript": [
              "positions.push([0.8096260331112868, 0.0, -0.5869460678022144]);"
            ]
          },
          "metadata": {
            "tags": []
          }
        },
        {
          "output_type": "display_data",
          "data": {
            "application/javascript": [
              "data_to_show.push(224);"
            ]
          },
          "metadata": {
            "tags": []
          }
        },
        {
          "output_type": "display_data",
          "data": {
            "application/javascript": [
              "positions.push([0.8036734530674985, 0.0, -0.5950705679451499]);"
            ]
          },
          "metadata": {
            "tags": []
          }
        },
        {
          "output_type": "display_data",
          "data": {
            "application/javascript": [
              "data_to_show.push(225);"
            ]
          },
          "metadata": {
            "tags": []
          }
        },
        {
          "output_type": "display_data",
          "data": {
            "application/javascript": [
              "positions.push([0.797154366924772, 0.0, -0.6037755504264527]);"
            ]
          },
          "metadata": {
            "tags": []
          }
        },
        {
          "output_type": "display_data",
          "data": {
            "application/javascript": [
              "data_to_show.push(226);"
            ]
          },
          "metadata": {
            "tags": []
          }
        },
        {
          "output_type": "display_data",
          "data": {
            "application/javascript": [
              "positions.push([0.7900525614563038, 0.0, -0.61303910979344]);"
            ]
          },
          "metadata": {
            "tags": []
          }
        },
        {
          "output_type": "display_data",
          "data": {
            "application/javascript": [
              "data_to_show.push(227);"
            ]
          },
          "metadata": {
            "tags": []
          }
        },
        {
          "output_type": "display_data",
          "data": {
            "application/javascript": [
              "positions.push([0.7823512818843327, 0.0, -0.6228374360408513]);"
            ]
          },
          "metadata": {
            "tags": []
          }
        },
        {
          "output_type": "display_data",
          "data": {
            "application/javascript": [
              "data_to_show.push(228);"
            ]
          },
          "metadata": {
            "tags": []
          }
        },
        {
          "output_type": "display_data",
          "data": {
            "application/javascript": [
              "positions.push([0.7740333852323555, 0.0, -0.6331447848207706]);"
            ]
          },
          "metadata": {
            "tags": []
          }
        },
        {
          "output_type": "display_data",
          "data": {
            "application/javascript": [
              "data_to_show.push(229);"
            ]
          },
          "metadata": {
            "tags": []
          }
        },
        {
          "output_type": "display_data",
          "data": {
            "application/javascript": [
              "positions.push([0.7650815040485718, 0.0, -0.6439334532098602]);"
            ]
          },
          "metadata": {
            "tags": []
          }
        },
        {
          "output_type": "display_data",
          "data": {
            "application/javascript": [
              "data_to_show.push(230);"
            ]
          },
          "metadata": {
            "tags": []
          }
        },
        {
          "output_type": "display_data",
          "data": {
            "application/javascript": [
              "positions.push([0.7554782200475456, 0.0, -0.655173762473584]);"
            ]
          },
          "metadata": {
            "tags": []
          }
        },
        {
          "output_type": "display_data",
          "data": {
            "application/javascript": [
              "data_to_show.push(231);"
            ]
          },
          "metadata": {
            "tags": []
          }
        },
        {
          "output_type": "display_data",
          "data": {
            "application/javascript": [
              "positions.push([0.7452062470825821, 0.0, -0.6668340493024435]);"
            ]
          },
          "metadata": {
            "tags": []
          }
        },
        {
          "output_type": "display_data",
          "data": {
            "application/javascript": [
              "data_to_show.push(232);"
            ]
          },
          "metadata": {
            "tags": []
          }
        },
        {
          "output_type": "display_data",
          "data": {
            "application/javascript": [
              "positions.push([0.7342486227131408, 0.0, -0.6788806670128821]);"
            ]
          },
          "metadata": {
            "tags": []
          }
        },
        {
          "output_type": "display_data",
          "data": {
            "application/javascript": [
              "data_to_show.push(233);"
            ]
          },
          "metadata": {
            "tags": []
          }
        },
        {
          "output_type": "display_data",
          "data": {
            "application/javascript": [
              "positions.push([0.7225889074711769, 0.0, -0.6912779982030464]);"
            ]
          },
          "metadata": {
            "tags": []
          }
        },
        {
          "output_type": "display_data",
          "data": {
            "application/javascript": [
              "data_to_show.push(234);"
            ]
          },
          "metadata": {
            "tags": []
          }
        },
        {
          "output_type": "display_data",
          "data": {
            "application/javascript": [
              "positions.push([0.7102113907595413, 0.0, -0.7039884803286188]);"
            ]
          },
          "metadata": {
            "tags": []
          }
        },
        {
          "output_type": "display_data",
          "data": {
            "application/javascript": [
              "data_to_show.push(235);"
            ]
          },
          "metadata": {
            "tags": []
          }
        },
        {
          "output_type": "display_data",
          "data": {
            "application/javascript": [
              "positions.push([0.6971013021369236, 0.0, -0.7169726456141863]);"
            ]
          },
          "metadata": {
            "tags": []
          }
        },
        {
          "output_type": "display_data",
          "data": {
            "application/javascript": [
              "data_to_show.push(236);"
            ]
          },
          "metadata": {
            "tags": []
          }
        },
        {
          "output_type": "display_data",
          "data": {
            "application/javascript": [
              "positions.push([0.6832450265602111, 0.0, -0.7301891766389971]);"
            ]
          },
          "metadata": {
            "tags": []
          }
        },
        {
          "output_type": "display_data",
          "data": {
            "application/javascript": [
              "data_to_show.push(237);"
            ]
          },
          "metadata": {
            "tags": []
          }
        },
        {
          "output_type": "display_data",
          "data": {
            "application/javascript": [
              "positions.push([0.6686303219700599, 0.0, -0.7435949788306899]);"
            ]
          },
          "metadata": {
            "tags": []
          }
        },
        {
          "output_type": "display_data",
          "data": {
            "application/javascript": [
              "data_to_show.push(238);"
            ]
          },
          "metadata": {
            "tags": []
          }
        },
        {
          "output_type": "display_data",
          "data": {
            "application/javascript": [
              "positions.push([0.653246537422848, 0.0, -0.7571452709652617]);"
            ]
          },
          "metadata": {
            "tags": []
          }
        },
        {
          "output_type": "display_data",
          "data": {
            "application/javascript": [
              "data_to_show.push(239);"
            ]
          },
          "metadata": {
            "tags": []
          }
        },
        {
          "output_type": "display_data",
          "data": {
            "application/javascript": [
              "positions.push([0.637084829796436, 0.0, -0.7707936946052726]);"
            ]
          },
          "metadata": {
            "tags": []
          }
        },
        {
          "output_type": "display_data",
          "data": {
            "application/javascript": [
              "data_to_show.push(240);"
            ]
          },
          "metadata": {
            "tags": []
          }
        },
        {
          "output_type": "display_data",
          "data": {
            "application/javascript": [
              "positions.push([0.6201383769330644, 0.0, -0.7844924432107836]);"
            ]
          },
          "metadata": {
            "tags": []
          }
        },
        {
          "output_type": "display_data",
          "data": {
            "application/javascript": [
              "data_to_show.push(241);"
            ]
          },
          "metadata": {
            "tags": []
          }
        },
        {
          "output_type": "display_data",
          "data": {
            "application/javascript": [
              "positions.push([0.6024025849353889, 0.0, -0.7981924114292002]);"
            ]
          },
          "metadata": {
            "tags": []
          }
        },
        {
          "output_type": "display_data",
          "data": {
            "application/javascript": [
              "data_to_show.push(242);"
            ]
          },
          "metadata": {
            "tags": []
          }
        },
        {
          "output_type": "display_data",
          "data": {
            "application/javascript": [
              "positions.push([0.5838752872063543, 0.0, -0.8118433648122632]);"
            ]
          },
          "metadata": {
            "tags": []
          }
        },
        {
          "output_type": "display_data",
          "data": {
            "application/javascript": [
              "data_to_show.push(243);"
            ]
          },
          "metadata": {
            "tags": []
          }
        },
        {
          "output_type": "display_data",
          "data": {
            "application/javascript": [
              "positions.push([0.5645569327257234, 0.0, -0.825394129922986]);"
            ]
          },
          "metadata": {
            "tags": []
          }
        },
        {
          "output_type": "display_data",
          "data": {
            "application/javascript": [
              "data_to_show.push(244);"
            ]
          },
          "metadata": {
            "tags": []
          }
        },
        {
          "output_type": "display_data",
          "data": {
            "application/javascript": [
              "positions.push([0.5444507609908565, 0.0, -0.8387928044853968]);"
            ]
          },
          "metadata": {
            "tags": []
          }
        },
        {
          "output_type": "display_data",
          "data": {
            "application/javascript": [
              "data_to_show.push(245);"
            ]
          },
          "metadata": {
            "tags": []
          }
        },
        {
          "output_type": "display_data",
          "data": {
            "application/javascript": [
              "positions.push([0.5235629610218097, 0.0, -0.8519869868994919]);"
            ]
          },
          "metadata": {
            "tags": []
          }
        },
        {
          "output_type": "display_data",
          "data": {
            "application/javascript": [
              "data_to_show.push(246);"
            ]
          },
          "metadata": {
            "tags": []
          }
        },
        {
          "output_type": "display_data",
          "data": {
            "application/javascript": [
              "positions.push([0.5019028118455752, 0.0, -0.8649240240977846]);"
            ]
          },
          "metadata": {
            "tags": []
          }
        },
        {
          "output_type": "display_data",
          "data": {
            "application/javascript": [
              "data_to_show.push(247);"
            ]
          },
          "metadata": {
            "tags": []
          }
        },
        {
          "output_type": "display_data",
          "data": {
            "application/javascript": [
              "positions.push([0.4794828019352737, 0.0, -0.8775512763641217]);"
            ]
          },
          "metadata": {
            "tags": []
          }
        },
        {
          "output_type": "display_data",
          "data": {
            "application/javascript": [
              "data_to_show.push(248);"
            ]
          },
          "metadata": {
            "tags": []
          }
        },
        {
          "output_type": "display_data",
          "data": {
            "application/javascript": [
              "positions.push([0.456318725190473, 0.0, -0.8898163973767519]);"
            ]
          },
          "metadata": {
            "tags": []
          }
        },
        {
          "output_type": "display_data",
          "data": {
            "application/javascript": [
              "data_to_show.push(249);"
            ]
          },
          "metadata": {
            "tags": []
          }
        },
        {
          "output_type": "display_data",
          "data": {
            "application/javascript": [
              "positions.push([0.4324297512066907, 0.0, -0.9016676273834608]);"
            ]
          },
          "metadata": {
            "tags": []
          }
        },
        {
          "output_type": "display_data",
          "data": {
            "application/javascript": [
              "data_to_show.push(250);"
            ]
          },
          "metadata": {
            "tags": []
          }
        },
        {
          "output_type": "display_data",
          "data": {
            "application/javascript": [
              "positions.push([0.40783846779649574, 0.0, -0.9130540970749799]);"
            ]
          },
          "metadata": {
            "tags": []
          }
        },
        {
          "output_type": "display_data",
          "data": {
            "application/javascript": [
              "data_to_show.push(251);"
            ]
          },
          "metadata": {
            "tags": []
          }
        },
        {
          "output_type": "display_data",
          "data": {
            "application/javascript": [
              "positions.push([0.3825708939911047, 0.0, -0.9239261394023047]);"
            ]
          },
          "metadata": {
            "tags": []
          }
        },
        {
          "output_type": "display_data",
          "data": {
            "application/javascript": [
              "data_to_show.push(252);"
            ]
          },
          "metadata": {
            "tags": []
          }
        },
        {
          "output_type": "display_data",
          "data": {
            "application/javascript": [
              "positions.push([0.3566564620681705, 0.0, -0.9342356062926609]);"
            ]
          },
          "metadata": {
            "tags": []
          }
        },
        {
          "output_type": "display_data",
          "data": {
            "application/javascript": [
              "data_to_show.push(253);"
            ]
          },
          "metadata": {
            "tags": []
          }
        },
        {
          "output_type": "display_data",
          "data": {
            "application/javascript": [
              "positions.push([0.33012796751528645, 0.0, -0.9439361869661667]);"
            ]
          },
          "metadata": {
            "tags": []
          }
        },
        {
          "output_type": "display_data",
          "data": {
            "application/javascript": [
              "data_to_show.push(254);"
            ]
          },
          "metadata": {
            "tags": []
          }
        },
        {
          "output_type": "display_data",
          "data": {
            "application/javascript": [
              "positions.push([0.3030214862447335, 0.0, -0.9529837243489695]);"
            ]
          },
          "metadata": {
            "tags": []
          }
        },
        {
          "output_type": "display_data",
          "data": {
            "application/javascript": [
              "data_to_show.push(255);"
            ]
          },
          "metadata": {
            "tags": []
          }
        },
        {
          "output_type": "display_data",
          "data": {
            "application/javascript": [
              "positions.push([0.2753762588168441, 0.0, -0.9613365259262953]);"
            ]
          },
          "metadata": {
            "tags": []
          }
        },
        {
          "output_type": "display_data",
          "data": {
            "application/javascript": [
              "data_to_show.push(256);"
            ]
          },
          "metadata": {
            "tags": []
          }
        },
        {
          "output_type": "display_data",
          "data": {
            "application/javascript": [
              "positions.push([0.2472345418992919, 0.0, -0.9689556652870385]);"
            ]
          },
          "metadata": {
            "tags": []
          }
        },
        {
          "output_type": "display_data",
          "data": {
            "application/javascript": [
              "data_to_show.push(257);"
            ]
          },
          "metadata": {
            "tags": []
          }
        },
        {
          "output_type": "display_data",
          "data": {
            "application/javascript": [
              "positions.push([0.21864142767861436, 0.0, -0.9758052705856108]);"
            ]
          },
          "metadata": {
            "tags": []
          }
        },
        {
          "output_type": "stream",
          "text": [
            "ERROR:root:Internal Python error in the inspect module.\n",
            "Below is the traceback from this internal error.\n",
            "\n"
          ],
          "name": "stderr"
        },
        {
          "output_type": "stream",
          "text": [
            "Traceback (most recent call last):\n",
            "  File \"/usr/local/lib/python3.7/dist-packages/IPython/core/interactiveshell.py\", line 2882, in run_code\n",
            "    exec(code_obj, self.user_global_ns, self.user_ns)\n",
            "  File \"<ipython-input-7-830606627ad3>\", line 151, in <module>\n",
            "    time.sleep(dt)\n",
            "KeyboardInterrupt\n",
            "\n",
            "During handling of the above exception, another exception occurred:\n",
            "\n",
            "Traceback (most recent call last):\n",
            "  File \"/usr/local/lib/python3.7/dist-packages/IPython/core/interactiveshell.py\", line 1823, in showtraceback\n",
            "    stb = value._render_traceback_()\n",
            "AttributeError: 'KeyboardInterrupt' object has no attribute '_render_traceback_'\n",
            "\n",
            "During handling of the above exception, another exception occurred:\n",
            "\n",
            "Traceback (most recent call last):\n",
            "  File \"/usr/local/lib/python3.7/dist-packages/IPython/core/ultratb.py\", line 1132, in get_records\n",
            "    return _fixed_getinnerframes(etb, number_of_lines_of_context, tb_offset)\n",
            "  File \"/usr/local/lib/python3.7/dist-packages/IPython/core/ultratb.py\", line 313, in wrapped\n",
            "    return f(*args, **kwargs)\n",
            "  File \"/usr/local/lib/python3.7/dist-packages/IPython/core/ultratb.py\", line 358, in _fixed_getinnerframes\n",
            "    records = fix_frame_records_filenames(inspect.getinnerframes(etb, context))\n",
            "  File \"/usr/lib/python3.7/inspect.py\", line 1502, in getinnerframes\n",
            "    frameinfo = (tb.tb_frame,) + getframeinfo(tb, context)\n",
            "  File \"/usr/lib/python3.7/inspect.py\", line 1464, in getframeinfo\n",
            "    lines, lnum = findsource(frame)\n",
            "  File \"/usr/local/lib/python3.7/dist-packages/IPython/core/ultratb.py\", line 170, in findsource\n",
            "    file = getsourcefile(object) or getfile(object)\n",
            "  File \"/usr/lib/python3.7/inspect.py\", line 696, in getsourcefile\n",
            "    if getattr(getmodule(object, filename), '__loader__', None) is not None:\n",
            "  File \"/usr/lib/python3.7/inspect.py\", line 735, in getmodule\n",
            "    if f == _filesbymodname.get(modname, None):\n",
            "KeyboardInterrupt\n"
          ],
          "name": "stdout"
        },
        {
          "output_type": "error",
          "ename": "KeyboardInterrupt",
          "evalue": "ignored",
          "traceback": [
            "\u001b[0;31m---------------------------------------------------------------------------\u001b[0m"
          ]
        }
      ]
    }
  ]
}