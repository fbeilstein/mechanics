{
  "nbformat": 4,
  "nbformat_minor": 0,
  "metadata": {
    "colab": {
      "name": "pendulum.ipynb",
      "provenance": [],
      "authorship_tag": "ABX9TyPvhdJ+MCitPHkZ0NIgVXan",
      "include_colab_link": true
    },
    "kernelspec": {
      "name": "python3",
      "display_name": "Python 3"
    },
    "language_info": {
      "name": "python"
    }
  },
  "cells": [
    {
      "cell_type": "markdown",
      "metadata": {
        "id": "view-in-github",
        "colab_type": "text"
      },
      "source": [
        "<a href=\"https://colab.research.google.com/github/fbeilstein/mechanics/blob/master/pendulum.ipynb\" target=\"_parent\"><img src=\"https://colab.research.google.com/assets/colab-badge.svg\" alt=\"Open In Colab\"/></a>"
      ]
    },
    {
      "cell_type": "code",
      "metadata": {
        "colab": {
          "base_uri": "https://localhost:8080/",
          "height": 869
        },
        "id": "DABOwUB_Cxhj",
        "outputId": "86e47091-0c6d-402e-ddb7-09cecad977e6"
      },
      "source": [
        "import IPython\n",
        "\n",
        "html_string = '''\n",
        "<script src=\"https://cdn.plot.ly/plotly-latest.min.js\"></script> \n",
        "\n",
        "<script>\n",
        "\n",
        "/// sphere plotting, nothing interesting\n",
        "a = [];\n",
        "b = [];\n",
        "c = [];\n",
        "\n",
        "phiArr = [];\n",
        "thetaArr = [];\n",
        "function makeInterval(startValue, stopValue, numPoints) {\n",
        "    var arr = [];\n",
        "    var step = (stopValue - startValue) / (numPoints - 1);\n",
        "    for (var i = 0; i < numPoints; i++) {\n",
        "      arr.push(startValue + (step * i));\n",
        "    }\n",
        "    return arr;\n",
        "  }\n",
        "\n",
        "phiArr = makeInterval(0, Math.PI/2, 20);  \n",
        "thetaArr = makeInterval(0, 2*Math.PI, 20); \n",
        "\n",
        "for (i=0; i<thetaArr.length; i++){\n",
        "    for (j=0; j<phiArr.length; j++){\n",
        "        a.push(0.1 * Math.cos(thetaArr[i]) * Math.sin(phiArr[j]));\n",
        "        b.push(0.1 * Math.sin(thetaArr[i]) * Math.sin(phiArr[j]));   \n",
        "        c.push(0.1 * Math.cos(phiArr[j]));\n",
        "    }\n",
        "}\n",
        "////\n",
        "\n",
        "\n",
        "var data_to_show = [];\n",
        "var positions = [];\n",
        "var update = true;\n",
        "\n",
        "function update() {\n",
        "  if (data_to_show.length > 0) {\n",
        "    let data = data_to_show.shift();\n",
        "    let obj = document.getElementById('yo');\n",
        "    obj.innerHTML = data;\n",
        "  }\n",
        "  if (data_to_show.length > 100) {\n",
        "    data_to_show = data_to_show.splice(0, data_to_show.length - 100);\n",
        "  }\n",
        "}\n",
        "\n",
        "\n",
        "var layout = {\n",
        "    title: 'Tests',\n",
        "    scene: {\n",
        "      domain: { 'x': [0.55, 1.0], 'y': [0.0, 1.0] }, \n",
        "      zaxis: {'range': [-1.1, 0.0]},\n",
        "      xaxis: {'range': [-1.0, 1.0]},\n",
        "      yaxis: {'range': [-1.0, 1.0]},\n",
        "      aspectmode: 'cube' \n",
        "    },\n",
        "    xaxis1: {'range': [-1.0, 1.0], 'domain': [0.0, 0.44], 'fixedrange': true},\n",
        "    yaxis1: {'range': [-1.0, 1.0], 'domain': [0.0, 1.0], 'fixedrange': true},\n",
        "    width: 1200,\n",
        "    height: 600,\n",
        "    autosize: false,\n",
        "    showlegend: false,\n",
        "    margin: {l: 50, r: 50, b: 50, t: 50}\n",
        "  };\n",
        "var plotted_once = false;\n",
        "var to_draw = true;\n",
        "\n",
        "function plot_once() {\n",
        "\n",
        "  if (!update)\n",
        "    return;\n",
        "\n",
        "  var x = 0.0;\n",
        "  var y = 0.0;\n",
        "  var z = 0.0;\n",
        "  if (positions.length > 0) {\n",
        "    let pos = positions.shift();\n",
        "    x = pos[0];\n",
        "    y = pos[1];\n",
        "    z = pos[2];\n",
        "  }\n",
        "  if (positions.length > 100) {\n",
        "    positions = positions.splice(0, positions.length - 100);\n",
        "  }\n",
        "\n",
        "\n",
        "  var data = [{\n",
        "    'type': 'scatter3d', \n",
        "    'mode': 'lines', \n",
        "    'name': 'scatter_1', \n",
        "    'x': [0.0, x], \n",
        "    'y': [0.0, y], \n",
        "    'z': [0.0, z], \n",
        "    'line': {'color': 'blue', 'width': 3}\n",
        "  },{\n",
        "    opacity: 1.0,\n",
        "    color: 'rgb(211,211,211)',\n",
        "    type: 'mesh3d',\n",
        "    name: 'messh',\n",
        "    x: a.map(v => v + x),\n",
        "    y: b.map(v => v + y),\n",
        "    z: c.map(v => v + z),\n",
        "  },{\n",
        "    opacity: 1.0,\n",
        "    color: 'rgb(211,211,211)',\n",
        "    type: 'mesh3d',\n",
        "    name: 'messh',\n",
        "    x: a.map(v => v + x),\n",
        "    y: b.map(v => v + y),\n",
        "    z: c.map(v => -v + z),\n",
        "  }];\n",
        "\n",
        "  var cell_for_plot = document.getElementById(\"for_plot\");\n",
        "\n",
        "\n",
        "  //if (cell_for_plot.layout)\n",
        "  //  layout = cell_for_plot.layout;\n",
        "  if (to_draw)\n",
        "    Plotly.react(cell_for_plot, data, layout);\n",
        "\n",
        "  if (!plotted_once) {\n",
        "    cell_for_plot.on('plotly_relayout', function(data){layout = cell_for_plot.layout;});\n",
        "    cell_for_plot.addEventListener(\"mousedown\", function(data){to_draw = false;});\n",
        "    cell_for_plot.addEventListener(\"mouseup\", function(data){to_draw = true;});\n",
        "    plotted_once = true;\n",
        "  }\n",
        "\n",
        "\n",
        "}\n",
        "\n",
        "function stop() {\n",
        "  update = !update;\n",
        "}\n",
        "</script>\n",
        "\n",
        "<body>\n",
        "frame: <b id='yo'></b><br>\n",
        "<button type=\"button\" onclick=\"stop();\">\n",
        "  Stop/Resume Drawings\n",
        "</button>\n",
        "<div id=\"for_plot\"></div>\n",
        "</body>\n",
        "\n",
        "<script>\n",
        "//plot_once();\n",
        "//window.setInterval(update, 100);\n",
        "//window.setInterval(plot_once, 100);\n",
        "</script>\n",
        "'''\n",
        "IPython.display.display_html(html_string, raw=True)\n",
        "\n",
        "\n",
        "import time\n",
        "import numpy as np\n",
        "\n",
        "idx = 0\n",
        "theta = 1.0\n",
        "d_theta_1 = 0.0\n",
        "k = 0.1\n",
        "dt = .5\n",
        "while True:\n",
        "  time.sleep(dt)\n",
        "  idx += 1\n",
        "  #js_str = \"data_to_show.push(\" + str(idx) + \");\"\n",
        "  #IPython.display.display_javascript(js_str, raw=True)\n",
        "\n",
        "  d_theta_2 = - k * np.sin(theta)\n",
        "  d_theta_1 = d_theta_1 + dt * d_theta_2\n",
        "  theta = theta + dt * d_theta_1\n",
        "\n",
        "  js_str = \"positions.push(\" + str([np.sin(theta), 0.0, -np.cos(theta)]) + \");plot_once();\"\n",
        "  IPython.display.display_javascript(js_str, raw=True)"
      ],
      "execution_count": 1,
      "outputs": [
        {
          "output_type": "display_data",
          "data": {
            "text/html": [
              "\n",
              "<script src=\"https://cdn.plot.ly/plotly-latest.min.js\"></script> \n",
              "\n",
              "<script>\n",
              "\n",
              "/// sphere plotting, nothing interesting\n",
              "a = [];\n",
              "b = [];\n",
              "c = [];\n",
              "\n",
              "phiArr = [];\n",
              "thetaArr = [];\n",
              "function makeInterval(startValue, stopValue, numPoints) {\n",
              "    var arr = [];\n",
              "    var step = (stopValue - startValue) / (numPoints - 1);\n",
              "    for (var i = 0; i < numPoints; i++) {\n",
              "      arr.push(startValue + (step * i));\n",
              "    }\n",
              "    return arr;\n",
              "  }\n",
              "\n",
              "phiArr = makeInterval(0, Math.PI/2, 20);  \n",
              "thetaArr = makeInterval(0, 2*Math.PI, 20); \n",
              "\n",
              "for (i=0; i<thetaArr.length; i++){\n",
              "    for (j=0; j<phiArr.length; j++){\n",
              "        a.push(0.1 * Math.cos(thetaArr[i]) * Math.sin(phiArr[j]));\n",
              "        b.push(0.1 * Math.sin(thetaArr[i]) * Math.sin(phiArr[j]));   \n",
              "        c.push(0.1 * Math.cos(phiArr[j]));\n",
              "    }\n",
              "}\n",
              "////\n",
              "\n",
              "\n",
              "var data_to_show = [];\n",
              "var positions = [];\n",
              "var update = true;\n",
              "\n",
              "function update() {\n",
              "  if (data_to_show.length > 0) {\n",
              "    let data = data_to_show.shift();\n",
              "    let obj = document.getElementById('yo');\n",
              "    obj.innerHTML = data;\n",
              "  }\n",
              "  if (data_to_show.length > 100) {\n",
              "    data_to_show = data_to_show.splice(0, data_to_show.length - 100);\n",
              "  }\n",
              "}\n",
              "\n",
              "\n",
              "var layout = {\n",
              "    title: 'Tests',\n",
              "    scene: {\n",
              "      domain: { 'x': [0.55, 1.0], 'y': [0.0, 1.0] }, \n",
              "      zaxis: {'range': [-1.1, 0.0]},\n",
              "      xaxis: {'range': [-1.0, 1.0]},\n",
              "      yaxis: {'range': [-1.0, 1.0]},\n",
              "      aspectmode: 'cube' \n",
              "    },\n",
              "    xaxis1: {'range': [-1.0, 1.0], 'domain': [0.0, 0.44], 'fixedrange': true},\n",
              "    yaxis1: {'range': [-1.0, 1.0], 'domain': [0.0, 1.0], 'fixedrange': true},\n",
              "    width: 1200,\n",
              "    height: 600,\n",
              "    autosize: false,\n",
              "    showlegend: false,\n",
              "    margin: {l: 50, r: 50, b: 50, t: 50}\n",
              "  };\n",
              "var plotted_once = false;\n",
              "var to_draw = true;\n",
              "\n",
              "function plot_once() {\n",
              "\n",
              "  if (!update)\n",
              "    return;\n",
              "\n",
              "  var x = 0.0;\n",
              "  var y = 0.0;\n",
              "  var z = 0.0;\n",
              "  if (positions.length > 0) {\n",
              "    let pos = positions.shift();\n",
              "    x = pos[0];\n",
              "    y = pos[1];\n",
              "    z = pos[2];\n",
              "  }\n",
              "  if (positions.length > 100) {\n",
              "    positions = positions.splice(0, positions.length - 100);\n",
              "  }\n",
              "\n",
              "\n",
              "  var data = [{\n",
              "    'type': 'scatter3d', \n",
              "    'mode': 'lines', \n",
              "    'name': 'scatter_1', \n",
              "    'x': [0.0, x], \n",
              "    'y': [0.0, y], \n",
              "    'z': [0.0, z], \n",
              "    'line': {'color': 'blue', 'width': 3}\n",
              "  },{\n",
              "    opacity: 1.0,\n",
              "    color: 'rgb(211,211,211)',\n",
              "    type: 'mesh3d',\n",
              "    name: 'messh',\n",
              "    x: a.map(v => v + x),\n",
              "    y: b.map(v => v + y),\n",
              "    z: c.map(v => v + z),\n",
              "  },{\n",
              "    opacity: 1.0,\n",
              "    color: 'rgb(211,211,211)',\n",
              "    type: 'mesh3d',\n",
              "    name: 'messh',\n",
              "    x: a.map(v => v + x),\n",
              "    y: b.map(v => v + y),\n",
              "    z: c.map(v => -v + z),\n",
              "  }];\n",
              "\n",
              "  var cell_for_plot = document.getElementById(\"for_plot\");\n",
              "\n",
              "\n",
              "  //if (cell_for_plot.layout)\n",
              "  //  layout = cell_for_plot.layout;\n",
              "  if (to_draw)\n",
              "    Plotly.react(cell_for_plot, data, layout);\n",
              "\n",
              "  if (!plotted_once) {\n",
              "    cell_for_plot.on('plotly_relayout', function(data){layout = cell_for_plot.layout;});\n",
              "    cell_for_plot.addEventListener(\"mousedown\", function(data){to_draw = false;});\n",
              "    cell_for_plot.addEventListener(\"mouseup\", function(data){to_draw = true;});\n",
              "    plotted_once = true;\n",
              "  }\n",
              "\n",
              "\n",
              "}\n",
              "\n",
              "function stop() {\n",
              "  update = !update;\n",
              "}\n",
              "</script>\n",
              "\n",
              "<body>\n",
              "frame: <b id='yo'></b><br>\n",
              "<button type=\"button\" onclick=\"stop();\">\n",
              "  Stop/Resume Drawings\n",
              "</button>\n",
              "<div id=\"for_plot\"></div>\n",
              "</body>\n",
              "\n",
              "<script>\n",
              "//plot_once();\n",
              "//window.setInterval(update, 100);\n",
              "//window.setInterval(plot_once, 100);\n",
              "</script>\n"
            ]
          },
          "metadata": {
            "tags": []
          }
        },
        {
          "output_type": "display_data",
          "data": {
            "application/javascript": [
              "positions.push([0.8299194174046244, 0.0, -0.5578832858356385]);plot_once();"
            ]
          },
          "metadata": {
            "tags": []
          }
        },
        {
          "output_type": "display_data",
          "data": {
            "application/javascript": [
              "positions.push([0.8058907807430215, 0.0, -0.5920642275238416]);plot_once();"
            ]
          },
          "metadata": {
            "tags": []
          }
        },
        {
          "output_type": "display_data",
          "data": {
            "application/javascript": [
              "positions.push([0.7677014434696219, 0.0, -0.640807688542092]);plot_once();"
            ]
          },
          "metadata": {
            "tags": []
          }
        },
        {
          "output_type": "display_data",
          "data": {
            "application/javascript": [
              "positions.push([0.7132483887810426, 0.0, -0.7009113609446253]);plot_once();"
            ]
          },
          "metadata": {
            "tags": []
          }
        },
        {
          "output_type": "display_data",
          "data": {
            "application/javascript": [
              "positions.push([0.6405130003539817, 0.0, -0.7679473265644853]);plot_once();"
            ]
          },
          "metadata": {
            "tags": []
          }
        },
        {
          "output_type": "display_data",
          "data": {
            "application/javascript": [
              "positions.push([0.5481891227261647, 0.0, -0.8363544019880077]);plot_once();"
            ]
          },
          "metadata": {
            "tags": []
          }
        },
        {
          "output_type": "display_data",
          "data": {
            "application/javascript": [
              "positions.push([0.43633745908517124, 0.0, -0.8997830970845676]);plot_once();"
            ]
          },
          "metadata": {
            "tags": []
          }
        },
        {
          "output_type": "display_data",
          "data": {
            "application/javascript": [
              "positions.push([0.3069078734105117, 0.0, -0.9517392275401059]);plot_once();"
            ]
          },
          "metadata": {
            "tags": []
          }
        },
        {
          "output_type": "display_data",
          "data": {
            "application/javascript": [
              "positions.push([0.16394450045712539, 0.0, -0.9864695640362472]);plot_once();"
            ]
          },
          "metadata": {
            "tags": []
          }
        },
        {
          "output_type": "display_data",
          "data": {
            "application/javascript": [
              "positions.push([0.013334469684467424, 0.0, -0.9999110920068014]);plot_once();"
            ]
          },
          "metadata": {
            "tags": []
          }
        },
        {
          "output_type": "display_data",
          "data": {
            "application/javascript": [
              "positions.push([-0.13791062517046207, 0.0, -0.9904446776398429]);plot_once();"
            ]
          },
          "metadata": {
            "tags": []
          }
        },
        {
          "output_type": "display_data",
          "data": {
            "application/javascript": [
              "positions.push([-0.282683188969655, 0.0, -0.9592133311594175]);plot_once();"
            ]
          },
          "metadata": {
            "tags": []
          }
        },
        {
          "output_type": "display_data",
          "data": {
            "application/javascript": [
              "positions.push([-0.41483534212765827, 0.0, -0.9098964990161401]);plot_once();"
            ]
          },
          "metadata": {
            "tags": []
          }
        },
        {
          "output_type": "display_data",
          "data": {
            "application/javascript": [
              "positions.push([-0.5299677536426229, 0.0, -0.8480177946829843]);plot_once();"
            ]
          },
          "metadata": {
            "tags": []
          }
        },
        {
          "output_type": "display_data",
          "data": {
            "application/javascript": [
              "positions.push([-0.6257666773719565, 0.0, -0.7800102983235937]);plot_once();"
            ]
          },
          "metadata": {
            "tags": []
          }
        },
        {
          "output_type": "display_data",
          "data": {
            "application/javascript": [
              "positions.push([-0.7018714292180792, 0.0, -0.7123036549445544]);plot_once();"
            ]
          },
          "metadata": {
            "tags": []
          }
        },
        {
          "output_type": "display_data",
          "data": {
            "application/javascript": [
              "positions.push([-0.7593944911879172, 0.0, -0.6506304686636218]);plot_once();"
            ]
          },
          "metadata": {
            "tags": []
          }
        },
        {
          "output_type": "display_data",
          "data": {
            "application/javascript": [
              "positions.push([-0.8002773783780236, 0.0, -0.5996299839537693]);plot_once();"
            ]
          },
          "metadata": {
            "tags": []
          }
        },
        {
          "output_type": "display_data",
          "data": {
            "application/javascript": [
              "positions.push([-0.8266490437858549, 0.0, -0.5627178319619273]);plot_once();"
            ]
          },
          "metadata": {
            "tags": []
          }
        },
        {
          "output_type": "display_data",
          "data": {
            "application/javascript": [
              "positions.push([-0.8402959844564422, 0.0, -0.5421278986608038]);plot_once();"
            ]
          },
          "metadata": {
            "tags": []
          }
        },
        {
          "output_type": "display_data",
          "data": {
            "application/javascript": [
              "positions.push([-0.8422934806730736, 0.0, -0.5390191948489762]);plot_once();"
            ]
          },
          "metadata": {
            "tags": []
          }
        },
        {
          "output_type": "display_data",
          "data": {
            "application/javascript": [
              "positions.push([-0.8328084426138229, 0.0, -0.5535612864996421]);plot_once();"
            ]
          },
          "metadata": {
            "tags": []
          }
        },
        {
          "output_type": "display_data",
          "data": {
            "application/javascript": [
              "positions.push([-0.81107027356551, 0.0, -0.5849487253925499]);plot_once();"
            ]
          },
          "metadata": {
            "tags": []
          }
        },
        {
          "output_type": "display_data",
          "data": {
            "application/javascript": [
              "positions.push([-0.7755086210498688, 0.0, -0.6313369771186628]);plot_once();"
            ]
          },
          "metadata": {
            "tags": []
          }
        },
        {
          "output_type": "display_data",
          "data": {
            "application/javascript": [
              "positions.push([-0.7240619730698858, 0.0, -0.6897349194829445]);plot_once();"
            ]
          },
          "metadata": {
            "tags": []
          }
        },
        {
          "output_type": "display_data",
          "data": {
            "application/javascript": [
              "positions.push([-0.6546541464407057, 0.0, -0.7559285340215641]);plot_once();"
            ]
          },
          "metadata": {
            "tags": []
          }
        },
        {
          "output_type": "display_data",
          "data": {
            "application/javascript": [
              "positions.push([-0.5658058188242441, 0.0, -0.8245385226807942]);plot_once();"
            ]
          },
          "metadata": {
            "tags": []
          }
        },
        {
          "output_type": "display_data",
          "data": {
            "application/javascript": [
              "positions.push([-0.45729424189118306, 0.0, -0.8893154537806977]);plot_once();"
            ]
          },
          "metadata": {
            "tags": []
          }
        },
        {
          "output_type": "display_data",
          "data": {
            "application/javascript": [
              "positions.push([-0.3307120738642399, 0.0, -0.9437317013857347]);plot_once();"
            ]
          },
          "metadata": {
            "tags": []
          }
        },
        {
          "output_type": "display_data",
          "data": {
            "application/javascript": [
              "positions.push([-0.18974057687077384, 0.0, -0.9818342596837544]);plot_once();"
            ]
          },
          "metadata": {
            "tags": []
          }
        },
        {
          "output_type": "display_data",
          "data": {
            "application/javascript": [
              "positions.push([-0.039983652525547246, 0.0, -0.9992003340325284]);plot_once();"
            ]
          },
          "metadata": {
            "tags": []
          }
        },
        {
          "output_type": "display_data",
          "data": {
            "application/javascript": [
              "positions.push([0.11167544316943101, 0.0, -0.9937447335170694]);plot_once();"
            ]
          },
          "metadata": {
            "tags": []
          }
        },
        {
          "output_type": "display_data",
          "data": {
            "application/javascript": [
              "positions.push([0.2580663182364062, 0.0, -0.9661272045605102]);plot_once();"
            ]
          },
          "metadata": {
            "tags": []
          }
        },
        {
          "output_type": "display_data",
          "data": {
            "application/javascript": [
              "positions.push([0.39280505441683433, 0.0, -0.9196217642186313]);plot_once();"
            ]
          },
          "metadata": {
            "tags": []
          }
        },
        {
          "output_type": "display_data",
          "data": {
            "application/javascript": [
              "positions.push([0.5111475109279616, 0.0, -0.8594930029221584]);plot_once();"
            ]
          },
          "metadata": {
            "tags": []
          }
        },
        {
          "output_type": "display_data",
          "data": {
            "application/javascript": [
              "positions.push([0.6104116561053413, 0.0, -0.7920843453135118]);plot_once();"
            ]
          },
          "metadata": {
            "tags": []
          }
        },
        {
          "output_type": "display_data",
          "data": {
            "application/javascript": [
              "positions.push([0.6899216011934641, 0.0, -0.7238840958376187]);plot_once();"
            ]
          },
          "metadata": {
            "tags": []
          }
        },
        {
          "output_type": "display_data",
          "data": {
            "application/javascript": [
              "positions.push([0.7505759400926038, 0.0, -0.660784199382903]);plot_once();"
            ]
          },
          "metadata": {
            "tags": []
          }
        },
        {
          "output_type": "display_data",
          "data": {
            "application/javascript": [
              "positions.push([0.7942191068172956, 0.0, -0.6076314757863827]);plot_once();"
            ]
          },
          "metadata": {
            "tags": []
          }
        },
        {
          "output_type": "display_data",
          "data": {
            "application/javascript": [
              "positions.push([0.822989597847622, 0.0, -0.568056442472585]);plot_once();"
            ]
          },
          "metadata": {
            "tags": []
          }
        },
        {
          "output_type": "display_data",
          "data": {
            "application/javascript": [
              "positions.push([0.8387654306954114, 0.0, -0.5444929313318411]);plot_once();"
            ]
          },
          "metadata": {
            "tags": []
          }
        },
        {
          "output_type": "display_data",
          "data": {
            "application/javascript": [
              "positions.push([0.8427656222677766, 0.0, -0.5382806943627155]);plot_once();"
            ]
          },
          "metadata": {
            "tags": []
          }
        },
        {
          "output_type": "display_data",
          "data": {
            "application/javascript": [
              "positions.push([0.8353231015542484, 0.0, -0.5497593255323558]);plot_once();"
            ]
          },
          "metadata": {
            "tags": []
          }
        },
        {
          "output_type": "display_data",
          "data": {
            "application/javascript": [
              "positions.push([0.8158263946706681, 0.0, -0.57829689067006]);plot_once();"
            ]
          },
          "metadata": {
            "tags": []
          }
        },
        {
          "output_type": "display_data",
          "data": {
            "application/javascript": [
              "positions.push([0.782827907144444, 0.0, -0.6222382725257664]);plot_once();"
            ]
          },
          "metadata": {
            "tags": []
          }
        },
        {
          "output_type": "display_data",
          "data": {
            "application/javascript": [
              "positions.push([0.7343223417985877, 0.0, -0.6788009268816876]);plot_once();"
            ]
          },
          "metadata": {
            "tags": []
          }
        },
        {
          "output_type": "display_data",
          "data": {
            "application/javascript": [
              "positions.push([0.6681949461027301, 0.0, -0.7439862324013594]);plot_once();"
            ]
          },
          "metadata": {
            "tags": []
          }
        },
        {
          "output_type": "display_data",
          "data": {
            "application/javascript": [
              "positions.push([0.5828138748180399, 0.0, -0.8126056776318894]);plot_once();"
            ]
          },
          "metadata": {
            "tags": []
          }
        },
        {
          "output_type": "display_data",
          "data": {
            "application/javascript": [
              "positions.push([0.47769057662314823, 0.0, -0.8785281515156155]);plot_once();"
            ]
          },
          "metadata": {
            "tags": []
          }
        },
        {
          "output_type": "display_data",
          "data": {
            "application/javascript": [
              "positions.push([0.35406930793876673, 0.0, -0.9352191856328456]);plot_once();"
            ]
          },
          "metadata": {
            "tags": []
          }
        },
        {
          "output_type": "display_data",
          "data": {
            "application/javascript": [
              "positions.push([0.21526347433439985, 0.0, -0.9765560079265722]);plot_once();"
            ]
          },
          "metadata": {
            "tags": []
          }
        },
        {
          "output_type": "display_data",
          "data": {
            "application/javascript": [
              "positions.push([0.06657366087270289, 0.0, -0.9977815129967113]);plot_once();"
            ]
          },
          "metadata": {
            "tags": []
          }
        },
        {
          "output_type": "display_data",
          "data": {
            "application/javascript": [
              "positions.push([-0.08527639619164813, 0.0, -0.996357333617094]);plot_once();"
            ]
          },
          "metadata": {
            "tags": []
          }
        },
        {
          "output_type": "display_data",
          "data": {
            "application/javascript": [
              "positions.push([-0.23308728271509982, 0.0, -0.9724558183467725]);plot_once();"
            ]
          },
          "metadata": {
            "tags": []
          }
        },
        {
          "output_type": "display_data",
          "data": {
            "application/javascript": [
              "positions.push([-0.3702658029981453, 0.0, -0.9289258501786559]);plot_once();"
            ]
          },
          "metadata": {
            "tags": []
          }
        },
        {
          "output_type": "display_data",
          "data": {
            "application/javascript": [
              "positions.push([-0.49173609151519276, 0.0, -0.8707442886986753]);plot_once();"
            ]
          },
          "metadata": {
            "tags": []
          }
        },
        {
          "output_type": "display_data",
          "data": {
            "application/javascript": [
              "positions.push([-0.5944458297480483, 0.0, -0.8041356573956626]);plot_once();"
            ]
          },
          "metadata": {
            "tags": []
          }
        },
        {
          "output_type": "display_data",
          "data": {
            "application/javascript": [
              "positions.push([-0.6773901917430442, 0.0, -0.7356239039960037]);plot_once();"
            ]
          },
          "metadata": {
            "tags": []
          }
        },
        {
          "output_type": "display_data",
          "data": {
            "application/javascript": [
              "positions.push([-0.7412341242388372, 0.0, -0.6712465814169067]);plot_once();"
            ]
          },
          "metadata": {
            "tags": []
          }
        },
        {
          "output_type": "display_data",
          "data": {
            "application/javascript": [
              "positions.push([-0.7877046576390815, 0.0, -0.6160530596740004]);plot_once();"
            ]
          },
          "metadata": {
            "tags": []
          }
        },
        {
          "output_type": "display_data",
          "data": {
            "application/javascript": [
              "positions.push([-0.8189326580405387, 0.0, -0.5738896249233454]);plot_once();"
            ]
          },
          "metadata": {
            "tags": []
          }
        },
        {
          "output_type": "display_data",
          "data": {
            "application/javascript": [
              "positions.push([-0.8368753919203766, 0.0, -0.5473934402220363]);plot_once();"
            ]
          },
          "metadata": {
            "tags": []
          }
        },
        {
          "output_type": "display_data",
          "data": {
            "application/javascript": [
              "positions.push([-0.8428886498751146, 0.0, -0.5380880261738841]);plot_once();"
            ]
          },
          "metadata": {
            "tags": []
          }
        },
        {
          "output_type": "display_data",
          "data": {
            "application/javascript": [
              "positions.push([-0.8374695954916486, 0.0, -0.5464839216546582]);plot_once();"
            ]
          },
          "metadata": {
            "tags": []
          }
        },
        {
          "output_type": "display_data",
          "data": {
            "application/javascript": [
              "positions.push([-0.8201691920217824, 0.0, -0.5721210505289389]);plot_once();"
            ]
          },
          "metadata": {
            "tags": []
          }
        },
        {
          "output_type": "display_data",
          "data": {
            "application/javascript": [
              "positions.push([-0.7896711490416253, 0.0, -0.6135303385907491]);plot_once();"
            ]
          },
          "metadata": {
            "tags": []
          }
        },
        {
          "output_type": "display_data",
          "data": {
            "application/javascript": [
              "positions.push([-0.7440402087596976, 0.0, -0.668134842489767]);plot_once();"
            ]
          },
          "metadata": {
            "tags": []
          }
        },
        {
          "output_type": "display_data",
          "data": {
            "application/javascript": [
              "positions.push([-0.6811414298171672, 0.0, -0.7321518644288391]);plot_once();"
            ]
          },
          "metadata": {
            "tags": []
          }
        },
        {
          "output_type": "display_data",
          "data": {
            "application/javascript": [
              "positions.push([-0.5992110809882821, 0.0, -0.8005910819018998]);plot_once();"
            ]
          },
          "metadata": {
            "tags": []
          }
        },
        {
          "output_type": "display_data",
          "data": {
            "application/javascript": [
              "positions.push([-0.497513390464082, 0.0, -0.867456296483537]);plot_once();"
            ]
          },
          "metadata": {
            "tags": []
          }
        },
        {
          "output_type": "display_data",
          "data": {
            "application/javascript": [
              "positions.push([-0.37695498516787973, 0.0, -0.9262315796587177]);plot_once();"
            ]
          },
          "metadata": {
            "tags": []
          }
        },
        {
          "output_type": "display_data",
          "data": {
            "application/javascript": [
              "positions.push([-0.24047907736294166, 0.0, -0.9706543222747572]);plot_once();"
            ]
          },
          "metadata": {
            "tags": []
          }
        },
        {
          "output_type": "display_data",
          "data": {
            "application/javascript": [
              "positions.push([-0.09306536114594416, 0.0, -0.9956600014838273]);plot_once();"
            ]
          },
          "metadata": {
            "tags": []
          }
        },
        {
          "output_type": "display_data",
          "data": {
            "application/javascript": [
              "positions.push([0.058751704434412695, 0.0, -0.9982726267037735]);plot_once();"
            ]
          },
          "metadata": {
            "tags": []
          }
        },
        {
          "output_type": "display_data",
          "data": {
            "application/javascript": [
              "positions.push([0.2077777218067427, 0.0, -0.9781760671376089]);plot_once();"
            ]
          },
          "metadata": {
            "tags": []
          }
        },
        {
          "output_type": "display_data",
          "data": {
            "application/javascript": [
              "positions.push([0.34723881805698514, 0.0, -0.9377767342147]);plot_once();"
            ]
          },
          "metadata": {
            "tags": []
          }
        },
        {
          "output_type": "display_data",
          "data": {
            "application/javascript": [
              "positions.push([0.4717431447720061, 0.0, -0.8817360179558381]);plot_once();"
            ]
          },
          "metadata": {
            "tags": []
          }
        },
        {
          "output_type": "display_data",
          "data": {
            "application/javascript": [
              "positions.push([0.5778686069986139, 0.0, -0.8161298138442692]);plot_once();"
            ]
          },
          "metadata": {
            "tags": []
          }
        },
        {
          "output_type": "display_data",
          "data": {
            "application/javascript": [
              "positions.push([0.66426938236602, 0.0, -0.7474932693015144]);plot_once();"
            ]
          },
          "metadata": {
            "tags": []
          }
        },
        {
          "output_type": "display_data",
          "data": {
            "application/javascript": [
              "positions.push([0.7313576386047728, 0.0, -0.6819941381378952]);plot_once();"
            ]
          },
          "metadata": {
            "tags": []
          }
        },
        {
          "output_type": "display_data",
          "data": {
            "application/javascript": [
              "positions.push([0.7807224516608978, 0.0, -0.6248779508612838]);plot_once();"
            ]
          },
          "metadata": {
            "tags": []
          }
        },
        {
          "output_type": "display_data",
          "data": {
            "application/javascript": [
              "positions.push([0.8144691543639854, 0.0, -0.5802068567240606]);plot_once();"
            ]
          },
          "metadata": {
            "tags": []
          }
        },
        {
          "output_type": "display_data",
          "data": {
            "application/javascript": [
              "positions.push([0.8346210747033083, 0.0, -0.5508245289210482]);plot_once();"
            ]
          },
          "metadata": {
            "tags": []
          }
        },
        {
          "output_type": "display_data",
          "data": {
            "application/javascript": [
              "positions.push([0.8426628873994427, 0.0, -0.5384415086150344]);plot_once();"
            ]
          },
          "metadata": {
            "tags": []
          }
        },
        {
          "output_type": "display_data",
          "data": {
            "application/javascript": [
              "positions.push([0.8392533106935014, 0.0, -0.5437406371515717]);plot_once();"
            ]
          },
          "metadata": {
            "tags": []
          }
        },
        {
          "output_type": "display_data",
          "data": {
            "application/javascript": [
              "positions.push([0.8241081607589844, 0.0, -0.5664324667340705]);plot_once();"
            ]
          },
          "metadata": {
            "tags": []
          }
        },
        {
          "output_type": "display_data",
          "data": {
            "application/javascript": [
              "positions.push([0.7960500673877753, 0.0, -0.6052307743430752]);plot_once();"
            ]
          },
          "metadata": {
            "tags": []
          }
        },
        {
          "output_type": "display_data",
          "data": {
            "application/javascript": [
              "positions.push([0.7532267312658175, 0.0, -0.657760968214603]);plot_once();"
            ]
          },
          "metadata": {
            "tags": []
          }
        },
        {
          "output_type": "display_data",
          "data": {
            "application/javascript": [
              "positions.push([0.6935007163899671, 0.0, -0.7204559364503859]);plot_once();"
            ]
          },
          "metadata": {
            "tags": []
          }
        },
        {
          "output_type": "display_data",
          "data": {
            "application/javascript": [
              "positions.push([0.6149969017164422, 0.0, -0.7885295244181899]);plot_once();"
            ]
          },
          "metadata": {
            "tags": []
          }
        },
        {
          "output_type": "display_data",
          "data": {
            "application/javascript": [
              "positions.push([0.516751629741685, 0.0, -0.8561353591338886]);plot_once();"
            ]
          },
          "metadata": {
            "tags": []
          }
        },
        {
          "output_type": "display_data",
          "data": {
            "application/javascript": [
              "positions.push([0.39934646849272687, 0.0, -0.91680008622512]);plot_once();"
            ]
          },
          "metadata": {
            "tags": []
          }
        },
        {
          "output_type": "display_data",
          "data": {
            "application/javascript": [
              "positions.push([0.26535467634252735, 0.0, -0.964150867729295]);plot_once();"
            ]
          },
          "metadata": {
            "tags": []
          }
        },
        {
          "output_type": "display_data",
          "data": {
            "application/javascript": [
              "positions.push([0.11942009081193605, 0.0, -0.9928438154666971]);plot_once();"
            ]
          },
          "metadata": {
            "tags": []
          }
        },
        {
          "output_type": "display_data",
          "data": {
            "application/javascript": [
              "positions.push([-0.032140188314353814, 0.0, -0.9994833706946393]);plot_once();"
            ]
          },
          "metadata": {
            "tags": []
          }
        },
        {
          "output_type": "display_data",
          "data": {
            "application/javascript": [
              "positions.push([-0.18217077310460095, 0.0, -0.9832669065042675]);plot_once();"
            ]
          },
          "metadata": {
            "tags": []
          }
        },
        {
          "output_type": "display_data",
          "data": {
            "application/javascript": [
              "positions.push([-0.323747317393001, 0.0, -0.9461435802672]);plot_once();"
            ]
          },
          "metadata": {
            "tags": []
          }
        },
        {
          "output_type": "display_data",
          "data": {
            "application/javascript": [
              "positions.push([-0.4511803159270594, 0.0, -0.8924328112076331]);plot_once();"
            ]
          },
          "metadata": {
            "tags": []
          }
        },
        {
          "output_type": "display_data",
          "data": {
            "application/javascript": [
              "positions.push([-0.5606810073658942, 0.0, -0.8280318882622614]);plot_once();"
            ]
          },
          "metadata": {
            "tags": []
          }
        },
        {
          "output_type": "display_data",
          "data": {
            "application/javascript": [
              "positions.push([-0.6505523630379463, 0.0, -0.7594614031968604]);plot_once();"
            ]
          },
          "metadata": {
            "tags": []
          }
        },
        {
          "output_type": "display_data",
          "data": {
            "application/javascript": [
              "positions.push([-0.7209354451389948, 0.0, -0.6930022250629788]);plot_once();"
            ]
          },
          "metadata": {
            "tags": []
          }
        },
        {
          "output_type": "display_data",
          "data": {
            "application/javascript": [
              "positions.push([-0.7732607217830262, 0.0, -0.634088208491211]);plot_once();"
            ]
          },
          "metadata": {
            "tags": []
          }
        },
        {
          "output_type": "display_data",
          "data": {
            "application/javascript": [
              "positions.push([-0.8095894226384831, 0.0, -0.5869965645145528]);plot_once();"
            ]
          },
          "metadata": {
            "tags": []
          }
        },
        {
          "output_type": "display_data",
          "data": {
            "application/javascript": [
              "positions.push([-0.8319968495177574, 0.0, -0.554780355088864]);plot_once();"
            ]
          },
          "metadata": {
            "tags": []
          }
        },
        {
          "output_type": "display_data",
          "data": {
            "application/javascript": [
              "positions.push([-0.8420877406864138, 0.0, -0.539340557519691]);plot_once();"
            ]
          },
          "metadata": {
            "tags": []
          }
        },
        {
          "output_type": "display_data",
          "data": {
            "application/javascript": [
              "positions.push([-0.8406787892450998, 0.0, -0.5415340924756198]);plot_once();"
            ]
          },
          "metadata": {
            "tags": []
          }
        },
        {
          "output_type": "display_data",
          "data": {
            "application/javascript": [
              "positions.push([-0.8276521853318652, 0.0, -0.5612413563836753]);plot_once();"
            ]
          },
          "metadata": {
            "tags": []
          }
        },
        {
          "output_type": "display_data",
          "data": {
            "application/javascript": [
              "positions.push([-0.8019761700215189, 0.0, -0.5973560267693093]);plot_once();"
            ]
          },
          "metadata": {
            "tags": []
          }
        },
        {
          "output_type": "display_data",
          "data": {
            "application/javascript": [
              "positions.push([-0.7618934020545113, 0.0, -0.6477024346918906]);plot_once();"
            ]
          },
          "metadata": {
            "tags": []
          }
        },
        {
          "output_type": "display_data",
          "data": {
            "application/javascript": [
              "positions.push([-0.7052808995995745, 0.0, -0.7089279601341838]);plot_once();"
            ]
          },
          "metadata": {
            "tags": []
          }
        },
        {
          "output_type": "display_data",
          "data": {
            "application/javascript": [
              "positions.push([-0.6301723847732845, 0.0, -0.776455256578994]);plot_once();"
            ]
          },
          "metadata": {
            "tags": []
          }
        },
        {
          "output_type": "display_data",
          "data": {
            "application/javascript": [
              "positions.push([-0.5353962250965896, 0.0, -0.8446010195070345]);plot_once();"
            ]
          },
          "metadata": {
            "tags": []
          }
        },
        {
          "output_type": "display_data",
          "data": {
            "application/javascript": [
              "positions.push([-0.42122312050476934, 0.0, -0.9069570457040534]);plot_once();"
            ]
          },
          "metadata": {
            "tags": []
          }
        },
        {
          "output_type": "display_data",
          "data": {
            "application/javascript": [
              "positions.push([-0.28985909649150693, 0.0, -0.957069330916589]);plot_once();"
            ]
          },
          "metadata": {
            "tags": []
          }
        },
        {
          "output_type": "display_data",
          "data": {
            "application/javascript": [
              "positions.push([-0.14559984069342288, 0.0, -0.9893435633742456]);plot_once();"
            ]
          },
          "metadata": {
            "tags": []
          }
        },
        {
          "output_type": "display_data",
          "data": {
            "application/javascript": [
              "positions.push([0.005481084701666582, 0.0, -0.9999849787424275]);plot_once();"
            ]
          },
          "metadata": {
            "tags": []
          }
        },
        {
          "output_type": "display_data",
          "data": {
            "application/javascript": [
              "positions.push([0.1563009397021156, 0.0, -0.9877094796792403]);plot_once();"
            ]
          },
          "metadata": {
            "tags": []
          }
        },
        {
          "output_type": "display_data",
          "data": {
            "application/javascript": [
              "positions.push([0.2998164556896414, 0.0, -0.9539969040294111]);plot_once();"
            ]
          },
          "metadata": {
            "tags": []
          }
        },
        {
          "output_type": "display_data",
          "data": {
            "application/javascript": [
              "positions.push([0.4300612771922073, 0.0, -0.9027996997450805]);plot_once();"
            ]
          },
          "metadata": {
            "tags": []
          }
        },
        {
          "output_type": "display_data",
          "data": {
            "application/javascript": [
              "positions.push([0.5428857498072857, 0.0, -0.8398065626417677]);plot_once();"
            ]
          },
          "metadata": {
            "tags": []
          }
        },
        {
          "output_type": "display_data",
          "data": {
            "application/javascript": [
              "positions.push([0.6362334451657411, 0.0, -0.7714965996376989]);plot_once();"
            ]
          },
          "metadata": {
            "tags": []
          }
        },
        {
          "output_type": "display_data",
          "data": {
            "application/javascript": [
              "positions.push([0.7099569816367919, 0.0, -0.7042450455808518]);plot_once();"
            ]
          },
          "metadata": {
            "tags": []
          }
        },
        {
          "output_type": "display_data",
          "data": {
            "application/javascript": [
              "positions.push([0.7653076005150006, 0.0, -0.6436647237451903]);plot_once();"
            ]
          },
          "metadata": {
            "tags": []
          }
        },
        {
          "output_type": "display_data",
          "data": {
            "application/javascript": [
              "positions.push([0.8042832638740459, 0.0, -0.5942461034387284]);plot_once();"
            ]
          },
          "metadata": {
            "tags": []
          }
        },
        {
          "output_type": "display_data",
          "data": {
            "application/javascript": [
              "positions.push([0.8289962813727949, 0.0, -0.559254115291142]);plot_once();"
            ]
          },
          "metadata": {
            "tags": []
          }
        },
        {
          "output_type": "display_data",
          "data": {
            "application/javascript": [
              "positions.push([0.8411617006056918, 0.0, -0.5407836845117838]);plot_once();"
            ]
          },
          "metadata": {
            "tags": []
          }
        },
        {
          "output_type": "display_data",
          "data": {
            "application/javascript": [
              "positions.push([0.8417497047619356, 0.0, -0.5398679787996269]);plot_once();"
            ]
          },
          "metadata": {
            "tags": []
          }
        },
        {
          "output_type": "display_data",
          "data": {
            "application/javascript": [
              "positions.push([0.8308094867262289, 0.0, -0.5565569124228897]);plot_once();"
            ]
          },
          "metadata": {
            "tags": []
          }
        },
        {
          "output_type": "display_data",
          "data": {
            "application/javascript": [
              "positions.push([0.807460670540323, 0.0, -0.5899214062318572]);plot_once();"
            ]
          },
          "metadata": {
            "tags": []
          }
        },
        {
          "output_type": "display_data",
          "data": {
            "application/javascript": [
              "positions.push([0.7700519441650158, 0.0, -0.6379811935219403]);plot_once();"
            ]
          },
          "metadata": {
            "tags": []
          }
        },
        {
          "output_type": "display_data",
          "data": {
            "application/javascript": [
              "positions.push([0.7164909340334203, 0.0, -0.6975964029780521]);plot_once();"
            ]
          },
          "metadata": {
            "tags": []
          }
        },
        {
          "output_type": "display_data",
          "data": {
            "application/javascript": [
              "positions.push([0.6447400642506617, 0.0, -0.7644018900748825]);plot_once();"
            ]
          },
          "metadata": {
            "tags": []
          }
        },
        {
          "output_type": "display_data",
          "data": {
            "application/javascript": [
              "positions.push([0.5534400445959559, 0.0, -0.8328890184398078]);plot_once();"
            ]
          },
          "metadata": {
            "tags": []
          }
        },
        {
          "output_type": "display_data",
          "data": {
            "application/javascript": [
              "positions.push([0.4425663345223146, 0.0, -0.8967357690799909]);plot_once();"
            ]
          },
          "metadata": {
            "tags": []
          }
        },
        {
          "output_type": "display_data",
          "data": {
            "application/javascript": [
              "positions.push([0.3139628135791728, 0.0, -0.9494352804111766]);plot_once();"
            ]
          },
          "metadata": {
            "tags": []
          }
        },
        {
          "output_type": "display_data",
          "data": {
            "application/javascript": [
              "positions.push([0.17156743127418933, 0.0, -0.9851723790920939]);plot_once();"
            ]
          },
          "metadata": {
            "tags": []
          }
        },
        {
          "output_type": "display_data",
          "data": {
            "application/javascript": [
              "positions.push([0.02118614069704507, 0.0, -0.9997755485319517]);plot_once();"
            ]
          },
          "metadata": {
            "tags": []
          }
        },
        {
          "output_type": "display_data",
          "data": {
            "application/javascript": [
              "positions.push([-0.13020394548627565, 0.0, -0.9914872326862343]);plot_once();"
            ]
          },
          "metadata": {
            "tags": []
          }
        },
        {
          "output_type": "display_data",
          "data": {
            "application/javascript": [
              "positions.push([-0.27547325855580224, 0.0, -0.9613087349133203]);plot_once();"
            ]
          },
          "metadata": {
            "tags": []
          }
        },
        {
          "output_type": "display_data",
          "data": {
            "application/javascript": [
              "positions.push([-0.4084017457911105, 0.0, -0.9128022863877879]);plot_once();"
            ]
          },
          "metadata": {
            "tags": []
          }
        },
        {
          "output_type": "display_data",
          "data": {
            "application/javascript": [
              "positions.push([-0.5244873336438108, 0.0, -0.8514182502432079]);plot_once();"
            ]
          },
          "metadata": {
            "tags": []
          }
        },
        {
          "output_type": "display_data",
          "data": {
            "application/javascript": [
              "positions.push([-0.6213081725970518, 0.0, -0.7835663052123363]);plot_once();"
            ]
          },
          "metadata": {
            "tags": []
          }
        },
        {
          "output_type": "display_data",
          "data": {
            "application/javascript": [
              "positions.push([-0.6984122729176694, 0.0, -0.7156956734799889]);plot_once();"
            ]
          },
          "metadata": {
            "tags": []
          }
        },
        {
          "output_type": "display_data",
          "data": {
            "application/javascript": [
              "positions.push([-0.7568512119875899, 0.0, -0.6535872114055754]);plot_once();"
            ]
          },
          "metadata": {
            "tags": []
          }
        },
        {
          "output_type": "display_data",
          "data": {
            "application/javascript": [
              "positions.push([-0.7985400087285249, 0.0, -0.6019417367651517]);plot_once();"
            ]
          },
          "metadata": {
            "tags": []
          }
        },
        {
          "output_type": "display_data",
          "data": {
            "application/javascript": [
              "positions.push([-0.8256121653991225, 0.0, -0.5642380280918434]);plot_once();"
            ]
          },
          "metadata": {
            "tags": []
          }
        },
        {
          "output_type": "display_data",
          "data": {
            "application/javascript": [
              "positions.push([-0.8398823509026347, 0.0, -0.5427684926764481]);plot_once();"
            ]
          },
          "metadata": {
            "tags": []
          }
        },
        {
          "output_type": "display_data",
          "data": {
            "application/javascript": [
              "positions.push([-0.8424688429584198, 0.0, -0.5387450683248074]);plot_once();"
            ]
          },
          "metadata": {
            "tags": []
          }
        },
        {
          "output_type": "display_data",
          "data": {
            "application/javascript": [
              "positions.push([-0.8335875747686887, 0.0, -0.5523873235251293]);plot_once();"
            ]
          },
          "metadata": {
            "tags": []
          }
        },
        {
          "output_type": "display_data",
          "data": {
            "application/javascript": [
              "positions.push([-0.8125144117398772, 0.0, -0.5829411039847863]);plot_once();"
            ]
          },
          "metadata": {
            "tags": []
          }
        },
        {
          "output_type": "display_data",
          "data": {
            "application/javascript": [
              "positions.push([-0.77771420923096, 0.0, -0.6286180149822804]);plot_once();"
            ]
          },
          "metadata": {
            "tags": []
          }
        },
        {
          "output_type": "error",
          "ename": "KeyboardInterrupt",
          "evalue": "ignored",
          "traceback": [
            "\u001b[0;31m---------------------------------------------------------------------------\u001b[0m",
            "\u001b[0;31mKeyboardInterrupt\u001b[0m                         Traceback (most recent call last)",
            "\u001b[0;32m<ipython-input-1-705d44457399>\u001b[0m in \u001b[0;36m<module>\u001b[0;34m()\u001b[0m\n\u001b[1;32m    165\u001b[0m \u001b[0mdt\u001b[0m \u001b[0;34m=\u001b[0m \u001b[0;36m.5\u001b[0m\u001b[0;34m\u001b[0m\u001b[0;34m\u001b[0m\u001b[0m\n\u001b[1;32m    166\u001b[0m \u001b[0;32mwhile\u001b[0m \u001b[0;32mTrue\u001b[0m\u001b[0;34m:\u001b[0m\u001b[0;34m\u001b[0m\u001b[0;34m\u001b[0m\u001b[0m\n\u001b[0;32m--> 167\u001b[0;31m   \u001b[0mtime\u001b[0m\u001b[0;34m.\u001b[0m\u001b[0msleep\u001b[0m\u001b[0;34m(\u001b[0m\u001b[0mdt\u001b[0m\u001b[0;34m)\u001b[0m\u001b[0;34m\u001b[0m\u001b[0;34m\u001b[0m\u001b[0m\n\u001b[0m\u001b[1;32m    168\u001b[0m   \u001b[0midx\u001b[0m \u001b[0;34m+=\u001b[0m \u001b[0;36m1\u001b[0m\u001b[0;34m\u001b[0m\u001b[0;34m\u001b[0m\u001b[0m\n\u001b[1;32m    169\u001b[0m   \u001b[0;31m#js_str = \"data_to_show.push(\" + str(idx) + \");\"\u001b[0m\u001b[0;34m\u001b[0m\u001b[0;34m\u001b[0m\u001b[0;34m\u001b[0m\u001b[0m\n",
            "\u001b[0;31mKeyboardInterrupt\u001b[0m: "
          ]
        }
      ]
    }
  ]
}